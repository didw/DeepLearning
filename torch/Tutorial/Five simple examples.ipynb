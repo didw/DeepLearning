{
 "cells": [
  {
   "cell_type": "markdown",
   "metadata": {},
   "source": [
    "http://torch.ch/docs/five-simple-examples.html"
   ]
  },
  {
   "cell_type": "code",
   "execution_count": null,
   "metadata": {
    "collapsed": true
   },
   "outputs": [],
   "source": [
    "require 'torch'"
   ]
  },
  {
   "cell_type": "code",
   "execution_count": null,
   "metadata": {
    "collapsed": true
   },
   "outputs": [],
   "source": [
    "torch.manualSeed(1234)"
   ]
  },
  {
   "cell_type": "code",
   "execution_count": null,
   "metadata": {
    "collapsed": true
   },
   "outputs": [],
   "source": [
    "-- choose a dimension\n",
    "N = 5\n",
    "\n",
    "-- create a random NxN matrix\n",
    "A = torch.rand(N, N)\n",
    "\n",
    "-- make it symmetric positive\n",
    "A = A*A:t()\n",
    "\n",
    "-- make it definite\n",
    "A:add(0.001, torch.eye(N))\n",
    "\n",
    "-- add a linear term\n",
    "b = torch.rand(N)\n",
    "\n",
    "-- create the quadratic form\n",
    "function J(x)\n",
    "   return 0.5*x:dot(A*x)-b:dot(x)\n",
    "end"
   ]
  },
  {
   "cell_type": "code",
   "execution_count": null,
   "metadata": {
    "collapsed": true
   },
   "outputs": [],
   "source": [
    "print(J(torch.rand(N)))"
   ]
  },
  {
   "cell_type": "code",
   "execution_count": null,
   "metadata": {
    "collapsed": true
   },
   "outputs": [],
   "source": [
    "xs = torch.inverse(A)*b\n",
    "print(string.format('J(x^*) = %g', J(xs)))"
   ]
  },
  {
   "cell_type": "code",
   "execution_count": null,
   "metadata": {
    "collapsed": true
   },
   "outputs": [],
   "source": [
    "function dJ(x)\n",
    "  return A*x-b\n",
    "end"
   ]
  },
  {
   "cell_type": "code",
   "execution_count": null,
   "metadata": {
    "collapsed": true
   },
   "outputs": [],
   "source": [
    "x = torch.rand(N)"
   ]
  },
  {
   "cell_type": "code",
   "execution_count": null,
   "metadata": {
    "collapsed": true
   },
   "outputs": [],
   "source": [
    "lr = 0.01\n",
    "for i=1,20000 do\n",
    "  x = x - dJ(x)*lr\n",
    "  -- we print the value of the objective function at each iteration\n",
    "  print(string.format('at iter %d J(x) = %f', i, J(x)))\n",
    "end"
   ]
  },
  {
   "cell_type": "code",
   "execution_count": null,
   "metadata": {
    "collapsed": true
   },
   "outputs": [],
   "source": [
    "local A = torch.rand(N, N)\n",
    "print(A)"
   ]
  },
  {
   "cell_type": "code",
   "execution_count": null,
   "metadata": {
    "collapsed": true
   },
   "outputs": [],
   "source": [
    "do\n",
    "   local A = torch.rand(N, N)\n",
    "   print(A)\n",
    "end\n",
    "print(A)"
   ]
  },
  {
   "cell_type": "code",
   "execution_count": null,
   "metadata": {
    "collapsed": true
   },
   "outputs": [],
   "source": [
    "require 'optim'"
   ]
  },
  {
   "cell_type": "code",
   "execution_count": null,
   "metadata": {
    "collapsed": true
   },
   "outputs": [],
   "source": [
    "do\n",
    "   local neval = 0\n",
    "   function JdJ(x)\n",
    "      local Jx = J(x)\n",
    "      neval = neval + 1\n",
    "      print(string.format('after %d evaluations J(x) = %f', neval, Jx))\n",
    "      return Jx, dJ(x)\n",
    "   end\n",
    "end"
   ]
  },
  {
   "cell_type": "code",
   "execution_count": null,
   "metadata": {
    "collapsed": true
   },
   "outputs": [],
   "source": [
    "state = {\n",
    "   verbose = true,\n",
    "   maxIter = 100\n",
    "}"
   ]
  },
  {
   "cell_type": "code",
   "execution_count": null,
   "metadata": {
    "collapsed": true
   },
   "outputs": [],
   "source": [
    "x = torch.rand(N)\n",
    "optim.cg(JdJ, x, state)"
   ]
  },
  {
   "cell_type": "code",
   "execution_count": null,
   "metadata": {
    "collapsed": true
   },
   "outputs": [],
   "source": [
    "evaluations = {}\n",
    "time = {}\n",
    "timer = torch.Timer()\n",
    "neval = 0\n",
    "function JdJ(x)\n",
    "   local Jx = J(x)\n",
    "   neval = neval + 1\n",
    "   print(string.format('after %d evaluations, J(x) = %f', neval, Jx))\n",
    "   table.insert(evaluations, Jx)\n",
    "   table.insert(time, timer:time().real)\n",
    "   return Jx, dJ(x)\n",
    "end"
   ]
  },
  {
   "cell_type": "code",
   "execution_count": null,
   "metadata": {
    "collapsed": true
   },
   "outputs": [],
   "source": [
    "state = {\n",
    "   verbose = true,\n",
    "   maxIter = 100\n",
    "}\n",
    "\n",
    "x0 = torch.rand(N)\n",
    "cgx = x0:clone() -- make a copy of x0\n",
    "timer:reset()\n",
    "optim.cg(JdJ, cgx, state)\n",
    "\n",
    "-- we convert the evaluations and time tables to tensors for plotting:\n",
    "cgtime = torch.Tensor(time)\n",
    "cgevaluations = torch.Tensor(evaluations)"
   ]
  },
  {
   "cell_type": "code",
   "execution_count": null,
   "metadata": {
    "collapsed": true
   },
   "outputs": [],
   "source": [
    "evaluations = {}\n",
    "time = {}\n",
    "neval = 0\n",
    "state = {\n",
    "  lr = 0.1\n",
    "}\n",
    "\n",
    "-- we start from the same starting point than for CG\n",
    "x = x0:clone()\n",
    "\n",
    "-- reset the timer!\n",
    "timer:reset()\n",
    "\n",
    "-- note that SGD optimizer requires us to do the loop\n",
    "for i=1,1000 do\n",
    "  optim.sgd(JdJ, x, state)\n",
    "  table.insert(evaluations, Jx)\n",
    "end\n",
    "\n",
    "sgdtime = torch.Tensor(time)\n",
    "sgdevaluations = torch.Tensor(evaluations)"
   ]
  },
  {
   "cell_type": "code",
   "execution_count": null,
   "metadata": {
    "collapsed": true
   },
   "outputs": [],
   "source": [
    "require 'itorch'\n",
    "require 'gnuplot'"
   ]
  },
  {
   "cell_type": "code",
   "execution_count": null,
   "metadata": {
    "collapsed": true
   },
   "outputs": [],
   "source": [
    "gnuplot.figure(1)\n",
    "gnuplot.title('CG loss minimisation over time')\n",
    "gnuplot.plot(cgtime, cgevaluations)\n",
    "\n",
    "gnuplot.figure(2)\n",
    "gnuplot.title('SGD loss minimisation over time')\n",
    "gnuplot.plot(sgdtime, sgdevaluations)"
   ]
  },
  {
   "cell_type": "code",
   "execution_count": null,
   "metadata": {
    "collapsed": true
   },
   "outputs": [],
   "source": [
    "gnuplot.pngfigure('plot.png')\n",
    "gnuplot.plot(\n",
    "   {'CG',  cgtime,  cgevaluations,  '-'},\n",
    "   {'SGD', sgdtime, sgdevaluations, '-'})\n",
    "gnuplot.xlabel('time (s)')\n",
    "gnuplot.ylabel('J(x)')\n",
    "gnuplot.plotflush()"
   ]
  },
  {
   "cell_type": "code",
   "execution_count": null,
   "metadata": {
    "collapsed": true
   },
   "outputs": [],
   "source": []
  }
 ],
 "metadata": {
  "kernelspec": {
   "display_name": "iTorch",
   "language": "lua",
   "name": "itorch"
  },
  "language_info": {
   "name": "lua",
   "version": "20100"
  }
 },
 "nbformat": 4,
 "nbformat_minor": 0
}
