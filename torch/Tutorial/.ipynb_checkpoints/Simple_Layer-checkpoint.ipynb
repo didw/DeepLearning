{
 "cells": [
  {
   "cell_type": "code",
   "execution_count": 1,
   "metadata": {
    "collapsed": false
   },
   "outputs": [
    {
     "data": {
      "text/plain": [
       "{\n",
       "  ConcatTable : table: 0x4163e720\n",
       "  SpatialAveragePooling : table: 0x40c1c7f0\n",
       "  BCECriterion : table: 0x40c1ba10\n",
       "  Reshape : table: 0x40c338b8\n",
       "  Jacobian : \n",
       "    {\n",
       "      forward : function: 0x41603828\n",
       "      testAllUpdate : function: 0x4145a570\n",
       "      testDiagHessianInput : function: 0x40658e38\n",
       "      testDiagHessianWeight : function: 0x40658e58\n",
       "      testDiagHessianBias : function: 0x4145a530\n",
       "      testDiagHessian : function: 0x40658e18\n",
       "      testJacobian : function: 0x41603848\n",
       "      testIO : function: 0x4145a550\n",
       "      testJacobianUpdateParameters : function: 0x41603888\n",
       "      backwardDiagHessian : function: 0x416037d0\n",
       "      testJacobianParameters : function: 0x41603868\n",
       "      backwardUpdate : function: 0x41603808\n",
       "      forwardUpdate : function: 0x4145a5f8\n",
       "      backward : function: 0x416010c8\n",
       "      linearModuleDiagHessian : function: 0x4145a510\n",
       "    }\n",
       "  SparseLinear : table: 0x40c30f88\n",
       "  CAddTable : table: 0x41444ec0\n",
       "  TemporalConvolution : table: 0x413a27f0\n",
       "  PairwiseDistance : table: 0x41454a18\n",
       "  WeightedMSECriterion : table: 0x41454c70\n",
       "  SmoothL1Criterion : table: 0x40c36578\n",
       "  TemporalSubSampling : table: 0x410c9918\n",
       "  TanhShrink : table: 0x4163ccf0\n",
       "  MixtureTable : table: 0x415fd2d8\n",
       "  Mul : table: 0x41629268\n",
       "  LogSoftMax : table: 0x41634e98\n",
       "  Min : table: 0x4161ef80\n",
       "  Exp : table: 0x41460418\n",
       "  Add : table: 0x4162cc70\n",
       "  BatchNormalization : table: 0x41616b90\n",
       "  AbsCriterion : table: 0x41629b30\n",
       "  MultiCriterion : table: 0x40661ef0\n",
       "  Max : table: 0x41620ee8\n",
       "  MulConstant : table: 0x4162aca0"
      ]
     },
     "execution_count": 1,
     "metadata": {},
     "output_type": "execute_result"
    },
    {
     "data": {
      "text/plain": [
       "\n",
       "  NarrowTable : table: 0x41619b80\n",
       "  View : table: 0x40c34df0\n",
       "  VolumetricConvolution : table: 0x40c32f70\n",
       "  SpatialSubSampling : table: 0x41620518\n",
       "  HardTanh : table: 0x41631cf0\n",
       "  DistKLDivCriterion : table: 0x409b5e48\n",
       "  SplitTable : table: 0x404c7dc8\n",
       "  DotProduct : table: 0x41457cd8\n",
       "  HingeEmbeddingCriterion : table: 0x410bd7b0\n",
       "  SpatialBatchNormalization : table: 0x4163cb68\n",
       "  DepthConcat : table: 0x40c2b7e8\n",
       "  Sigmoid : table: 0x41635ef8\n",
       "  SpatialAdaptiveMaxPooling : table: 0x412fb030\n",
       "  Parallel : table: 0x40c26cb0\n",
       "  SoftShrink : table: 0x412f9f00\n",
       "  SpatialSubtractiveNormalization : table: 0x4144eee0\n",
       "  Log : table: 0x416307a0\n",
       "  SpatialDropout : table: 0x41442e68\n",
       "  LeakyReLU : table: 0x4130e090\n",
       "  VolumetricMaxPooling : table: 0x4151e4f0\n",
       "  hessian : \n",
       "    {\n",
       "      enable : function: 0x406529f8\n",
       "    }\n",
       "  Linear : table: 0x40c2ebc8\n",
       "  Euclidean : table: 0x4144ac70\n",
       "  CriterionTable : table: 0x41624cf0\n",
       "  SpatialMaxPooling : table: 0x4144c1b8\n",
       "  MultiMarginCriterion : table: 0x406654c8\n",
       "  ELU : table: 0x41640fb0\n",
       "  CSubTable : table: 0x4144a180\n",
       "  MultiLabelMarginCriterion : table: 0x41628220\n",
       "  Copy : table: 0x4161bb80\n",
       "  L1HingeEmbeddingCriterion : table: 0x404bd5d8\n",
       "  VolumetricAveragePooling : table: 0x41635910\n",
       "  StochasticGradient : table: 0x40c26468\n",
       "  SpatialContrastiveNormalization : table: 0x40e6fba8\n",
       "  CosineEmbeddingCriterion : table: 0x4150ff50\n",
       "  Padding : table: 0x41619fe8\n",
       "  Container : table: 0x40c1fdf8\n",
       "  MarginRankingCriterion : table: 0x4064f2e8\n",
       "  Module : table: 0x40c1b020\n",
       "  ParallelCriterion : table: 0x40c25790\n",
       "  Concat : table: 0x40c21720\n",
       "  CrossEntropyCriterion : table: 0x41311a70\n",
       "  LookupTable : table: 0x40c38698\n",
       "  SpatialSoftMax : table: 0x40c1ad90\n",
       "  HardShrink : table: 0x41612540\n",
       "  Abs : table: 0x4163e010\n",
       "  SparseJacobian : \n",
       "    {\n",
       "      forward : function: 0x404c6f58\n",
       "      testJacobian : function: 0x4160ce48\n",
       "      testIO : function: 0x4160cea8\n",
       "      testAllUpdate : function: 0x41600dd0\n",
       "      testJacobianParameters : function: 0x4160ce68\n",
       "      testJacobianUpdateParameters : function: 0x4160ce88\n",
       "      forwardUpdate : function: 0x404c6f20\n",
       "      backward : function: 0x404c6fe0\n",
       "      backwardUpdate : function: 0x404c7000\n",
       "    }\n",
       "  SoftMin : table: 0x416382d0\n",
       "  WeightedEuclidean : table: 0x4144e8f0\n",
       "  L1Cost : table: 0x40c36c60\n",
       "  PReLU : table: 0x410c8c48\n",
       "  utils : \n",
       "    {\n",
       "      recursiveType : function: 0x413a1680\n",
       "      recursiveResizeAs : function: 0x413a16f8\n",
       "      recursiveAdd : function: 0x413a16c0\n",
       "      addSingletonDimension : function: 0x4139ea28\n",
       "      recursiveFill : function: 0x4139e800\n",
       "    }\n",
       "  JoinTable : table: 0x413862b0\n",
       "  ClassNLLCriterion : table: 0x414492e8\n",
       "  CMul : table: 0x41626778\n",
       "  CosineDistance : table: 0x41455f88\n",
       "  Index : table: 0x41611980\n",
       "  Mean : table: 0x41622ee0\n",
       "  Dropout : table: 0x41441768\n",
       "  SoftPlus : table: 0x41639518\n",
       "  SpatialDivisiveNormalization : table: 0x40c275b0\n",
       "  L1Penalty : table: 0x413a0d20\n",
       "  Power : table: 0x4163f4d8\n",
       "  Sqrt : table: 0x41641908\n",
       "  MM : table: 0x4145ea00\n",
       "  ReLU : table: 0x40e6fd88\n",
       "  test : function: 0x407e9218\n",
       "  SoftMax : table: 0x41636f58\n",
       "  SpatialConvolutionMM : table: 0x4130c750\n",
       "  Cosine : table: 0x4145f0e8\n",
       "  Clamp : table: 0x41632c00\n",
       "  CMulTable : table: 0x414488a0\n",
       "  LogSigmoid : table: 0x41633e30\n",
       "  Threshold : table: 0x4130f338\n",
       "  TemporalMaxPooling : table: 0x406596e8\n",
       "  MSECriterion : table: 0x41516dd0\n",
       "  Sum : table: 0x41625070\n",
       "  SoftSign : table: 0x4163a9a8\n",
       "  Normalize : table: 0x41459500\n",
       "  ParallelTable : table: 0x41448190\n",
       "  FlattenTable : table: 0x40c2c428\n",
       "  CDivTable : table: 0x41446b08\n",
       "  Tanh : table: 0x4163b948\n",
       "  Replicate : table: 0x416134b8\n",
       "  Square : table: 0x416406b0\n",
       "  Select : table: 0x40c37f50\n",
       "  GradientReversal : table: 0x4161b008\n",
       "  tables : \n",
       "    {\n",
       "      full : function: 0x41309e38\n",
       "      oneToOne : function: 0x410c6c38\n",
       "      random : function: 0x416ddfc0\n",
       "    }\n",
       "  SpatialFullConvolutionMap : table: 0x410c4f70"
      ]
     },
     "execution_count": 1,
     "metadata": {},
     "output_type": "execute_result"
    }
   ],
   "source": [
    "require 'nn'"
   ]
  },
  {
   "cell_type": "code",
   "execution_count": 2,
   "metadata": {
    "collapsed": true
   },
   "outputs": [],
   "source": [
    "module = nn.Dropout()"
   ]
  },
  {
   "cell_type": "code",
   "execution_count": 3,
   "metadata": {
    "collapsed": true
   },
   "outputs": [],
   "source": [
    "x = torch.Tensor({ {1,2,3,4}, {5,6,7,8} })"
   ]
  },
  {
   "cell_type": "code",
   "execution_count": 4,
   "metadata": {
    "collapsed": false
   },
   "outputs": [
    {
     "data": {
      "text/plain": [
       "  0   4   6   8\n",
       "  0   0  14   0\n",
       "[torch.DoubleTensor of size 2x4]\n",
       "\n"
      ]
     },
     "execution_count": 4,
     "metadata": {},
     "output_type": "execute_result"
    }
   ],
   "source": [
    "module:forward(x)"
   ]
  },
  {
   "cell_type": "code",
   "execution_count": 5,
   "metadata": {
    "collapsed": false
   },
   "outputs": [],
   "source": [
    "x"
   ]
  },
  {
   "cell_type": "code",
   "execution_count": 6,
   "metadata": {
    "collapsed": false,
    "scrolled": true
   },
   "outputs": [
    {
     "data": {
      "text/plain": [
       " 1  1  1  1\n",
       " 1  1  1  1\n",
       "[torch.DoubleTensor of size 2x4]\n",
       "\n"
      ]
     },
     "execution_count": 6,
     "metadata": {},
     "output_type": "execute_result"
    }
   ],
   "source": [
    "x:clone():fill(1)"
   ]
  },
  {
   "cell_type": "code",
   "execution_count": 7,
   "metadata": {
    "collapsed": false
   },
   "outputs": [],
   "source": [
    "x:clone()"
   ]
  },
  {
   "cell_type": "code",
   "execution_count": 8,
   "metadata": {
    "collapsed": false
   },
   "outputs": [],
   "source": [
    "x:clone():fill(0)"
   ]
  },
  {
   "cell_type": "code",
   "execution_count": 9,
   "metadata": {
    "collapsed": false
   },
   "outputs": [
    {
     "data": {
      "text/plain": [
       " 0  2  2  2\n",
       " 0  0  2  0\n",
       "[torch.DoubleTensor of size 2x4]\n",
       "\n"
      ]
     },
     "execution_count": 9,
     "metadata": {},
     "output_type": "execute_result"
    }
   ],
   "source": [
    "module:backward(x, x:clone():fill(1))"
   ]
  },
  {
   "cell_type": "code",
   "execution_count": 10,
   "metadata": {
    "collapsed": false
   },
   "outputs": [
    {
     "data": {
      "text/plain": [
       "  2   4   6   8\n",
       "  0  12   0   0\n",
       "[torch.DoubleTensor of size 2x4]\n",
       "\n"
      ]
     },
     "execution_count": 10,
     "metadata": {},
     "output_type": "execute_result"
    }
   ],
   "source": [
    "module:forward(x)"
   ]
  },
  {
   "cell_type": "code",
   "execution_count": 11,
   "metadata": {
    "collapsed": false,
    "scrolled": true
   },
   "outputs": [],
   "source": [
    "x"
   ]
  },
  {
   "cell_type": "code",
   "execution_count": 12,
   "metadata": {
    "collapsed": false
   },
   "outputs": [
    {
     "data": {
      "text/plain": [
       "\n"
      ]
     },
     "execution_count": 12,
     "metadata": {},
     "output_type": "execute_result"
    }
   ],
   "source": [
    "module:evaluate()"
   ]
  },
  {
   "cell_type": "code",
   "execution_count": 13,
   "metadata": {
    "collapsed": false
   },
   "outputs": [
    {
     "data": {
      "text/plain": [
       " 1  2  3  4\n",
       " 5  6  7  8\n",
       "[torch.DoubleTensor of size 2x4]\n",
       "\n"
      ]
     },
     "execution_count": 13,
     "metadata": {},
     "output_type": "execute_result"
    }
   ],
   "source": [
    "module:forward(x)"
   ]
  },
  {
   "cell_type": "code",
   "execution_count": 14,
   "metadata": {
    "collapsed": false
   },
   "outputs": [],
   "source": [
    "module:training()"
   ]
  },
  {
   "cell_type": "code",
   "execution_count": 15,
   "metadata": {
    "collapsed": false,
    "scrolled": true
   },
   "outputs": [
    {
     "data": {
      "text/plain": [
       "  0   4   0   8\n",
       "  0  12  14   0\n",
       "[torch.DoubleTensor of size 2x4]\n",
       "\n"
      ]
     },
     "execution_count": 15,
     "metadata": {},
     "output_type": "execute_result"
    }
   ],
   "source": [
    "module:forward(x)"
   ]
  },
  {
   "cell_type": "code",
   "execution_count": null,
   "metadata": {
    "collapsed": true
   },
   "outputs": [],
   "source": [
    "m = nn.Abs()\n",
    "ii = torch.linspace(-5, 5)\n",
    "oo = m:forward(ii)\n",
    "go = torch.ones(100)\n",
    "gi = m:backward(ii, go)\n",
    "gnuplot.plot({'f(x)', ii, oo, '+-'}, {'df/dx', ii, gi, '+-'})\n",
    "gnuplot.grid(true)"
   ]
  }
 ],
 "metadata": {
  "kernelspec": {
   "display_name": "iTorch",
   "language": "lua",
   "name": "itorch"
  },
  "language_info": {
   "name": "lua",
   "version": "20100"
  }
 },
 "nbformat": 4,
 "nbformat_minor": 0
}
