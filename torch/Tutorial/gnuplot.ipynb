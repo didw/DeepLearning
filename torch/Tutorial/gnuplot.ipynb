{
 "cells": [
  {
   "cell_type": "code",
   "execution_count": 11,
   "metadata": {
    "collapsed": false
   },
   "outputs": [],
   "source": [
    "require 'torch'\n",
    "require 'gnuplot'\n",
    "require 'optim'\n",
    "require 'nn'"
   ]
  },
  {
   "cell_type": "code",
   "execution_count": 12,
   "metadata": {
    "collapsed": true
   },
   "outputs": [],
   "source": [
    "evaluations = {}\n",
    "time = {}\n",
    "timer = torch.Timer()\n",
    "neval = 0\n",
    "function JdJ(x)\n",
    "   local Jx = J(x)\n",
    "   neval = neval + 1\n",
    "   print(string.format('after %d evaluations, J(x) = %f', neval, Jx))\n",
    "   table.insert(evaluations, Jx)\n",
    "   table.insert(time, timer:time().real)\n",
    "   return Jx, dJ(x)\n",
    "end"
   ]
  },
  {
   "cell_type": "code",
   "execution_count": 13,
   "metadata": {
    "collapsed": false
   },
   "outputs": [
    {
     "ename": "invalid arguments: nil \nexpected arguments: [*DoubleTensor*] [Generator] (LongStorage | dim1 [dim2...])\nstack traceback:\n\t[C]: at 0x7f02d63abc00\n\t[C]: in function 'rand'\n\t[string \"state = {...\"]:6: in main chunk\n\t[C]: in function 'xpcall'\n\t/root/torch/install/share/lua/5.1/itorch/main.lua:179: in function </root/torch/install/share/lua/5.1/itorch/main.lua:143>\n\t/root/torch/install/share/lua/5.1/lzmq/poller.lua:75: in function 'poll'\n\t/root/torch/install/share/lua/5.1/lzmq/impl/loop.lua:307: in function 'poll'\n\t/root/torch/install/share/lua/5.1/lzmq/impl/loop.lua:325: in function 'sleep_ex'\n\t/root/torch/install/share/lua/5.1/lzmq/impl/loop.lua:370: in function 'start'\n\t/root/torch/install/share/lua/5.1/itorch/main.lua:350: in main chunk\n\t[C]: in function 'require'\n\t[string \"arg={'/root/.local/share/jupyter/runtime/kern...\"]:1: in main chunk",
     "evalue": "",
     "output_type": "error",
     "traceback": [
      "invalid arguments: nil \nexpected arguments: [*DoubleTensor*] [Generator] (LongStorage | dim1 [dim2...])\nstack traceback:\n\t[C]: at 0x7f02d63abc00\n\t[C]: in function 'rand'\n\t[string \"state = {...\"]:6: in main chunk\n\t[C]: in function 'xpcall'\n\t/root/torch/install/share/lua/5.1/itorch/main.lua:179: in function </root/torch/install/share/lua/5.1/itorch/main.lua:143>\n\t/root/torch/install/share/lua/5.1/lzmq/poller.lua:75: in function 'poll'\n\t/root/torch/install/share/lua/5.1/lzmq/impl/loop.lua:307: in function 'poll'\n\t/root/torch/install/share/lua/5.1/lzmq/impl/loop.lua:325: in function 'sleep_ex'\n\t/root/torch/install/share/lua/5.1/lzmq/impl/loop.lua:370: in function 'start'\n\t/root/torch/install/share/lua/5.1/itorch/main.lua:350: in main chunk\n\t[C]: in function 'require'\n\t[string \"arg={'/root/.local/share/jupyter/runtime/kern...\"]:1: in main chunk"
     ]
    }
   ],
   "source": [
    "state = {\n",
    "   verbose = true,\n",
    "   maxIter = 100\n",
    "}\n",
    "\n",
    "x0 = torch.rand(N)\n",
    "cgx = x0:clone() -- make a copy of x0\n",
    "timer:reset()\n",
    "optim.cg(JdJ, cgx, state)\n",
    "\n",
    "-- we convert the evaluations and time tables to tensors for plotting:\n",
    "cgtime = torch.Tensor(time)\n",
    "cgevaluations = torch.Tensor(evaluations)"
   ]
  },
  {
   "cell_type": "code",
   "execution_count": null,
   "metadata": {
    "collapsed": true
   },
   "outputs": [],
   "source": []
  },
  {
   "cell_type": "code",
   "execution_count": null,
   "metadata": {
    "collapsed": true
   },
   "outputs": [],
   "source": []
  },
  {
   "cell_type": "code",
   "execution_count": 2,
   "metadata": {
    "collapsed": false
   },
   "outputs": [
    {
     "ename": "/root/torch/install/share/lua/5.1/gnuplot/gnuplot.lua:330: empty argument list\nstack traceback:\n\t[C]: in function 'error'\n\t/root/torch/install/share/lua/5.1/gnuplot/gnuplot.lua:330: in function 'getvars'\n\t/root/torch/install/share/lua/5.1/gnuplot/gnuplot.lua:970: in function 'plot'\n\t[string \"gnuplot.figure(1)...\"]:3: in main chunk\n\t[C]: in function 'xpcall'\n\t/root/torch/install/share/lua/5.1/itorch/main.lua:179: in function </root/torch/install/share/lua/5.1/itorch/main.lua:143>\n\t/root/torch/install/share/lua/5.1/lzmq/poller.lua:75: in function 'poll'\n\t/root/torch/install/share/lua/5.1/lzmq/impl/loop.lua:307: in function 'poll'\n\t/root/torch/install/share/lua/5.1/lzmq/impl/loop.lua:325: in function 'sleep_ex'\n\t/root/torch/install/share/lua/5.1/lzmq/impl/loop.lua:370: in function 'start'\n\t/root/torch/install/share/lua/5.1/itorch/main.lua:350: in main chunk\n\t[C]: in function 'require'\n\t[string \"arg={'/root/.local/share/jupyter/runtime/kern...\"]:1: in main chunk",
     "evalue": "",
     "output_type": "error",
     "traceback": [
      "/root/torch/install/share/lua/5.1/gnuplot/gnuplot.lua:330: empty argument list\nstack traceback:\n\t[C]: in function 'error'\n\t/root/torch/install/share/lua/5.1/gnuplot/gnuplot.lua:330: in function 'getvars'\n\t/root/torch/install/share/lua/5.1/gnuplot/gnuplot.lua:970: in function 'plot'\n\t[string \"gnuplot.figure(1)...\"]:3: in main chunk\n\t[C]: in function 'xpcall'\n\t/root/torch/install/share/lua/5.1/itorch/main.lua:179: in function </root/torch/install/share/lua/5.1/itorch/main.lua:143>\n\t/root/torch/install/share/lua/5.1/lzmq/poller.lua:75: in function 'poll'\n\t/root/torch/install/share/lua/5.1/lzmq/impl/loop.lua:307: in function 'poll'\n\t/root/torch/install/share/lua/5.1/lzmq/impl/loop.lua:325: in function 'sleep_ex'\n\t/root/torch/install/share/lua/5.1/lzmq/impl/loop.lua:370: in function 'start'\n\t/root/torch/install/share/lua/5.1/itorch/main.lua:350: in main chunk\n\t[C]: in function 'require'\n\t[string \"arg={'/root/.local/share/jupyter/runtime/kern...\"]:1: in main chunk"
     ]
    }
   ],
   "source": [
    "gnuplot.figure(1)\n",
    "gnuplot.title('CG loss minimisation over time')\n",
    "gnuplot.plot(cgtime, cgevaluations)\n",
    "\n",
    "gnuplot.figure(2)\n",
    "gnuplot.title('SGD loss minimisation over time')\n",
    "gnuplot.plot(sgdtime, sgdevaluations)"
   ]
  },
  {
   "cell_type": "code",
   "execution_count": null,
   "metadata": {
    "collapsed": true
   },
   "outputs": [],
   "source": []
  }
 ],
 "metadata": {
  "kernelspec": {
   "display_name": "iTorch",
   "language": "lua",
   "name": "itorch"
  },
  "language_info": {
   "name": "lua",
   "version": "20100"
  }
 },
 "nbformat": 4,
 "nbformat_minor": 0
}
