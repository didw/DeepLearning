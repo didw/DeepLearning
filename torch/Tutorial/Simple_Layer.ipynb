{
 "cells": [
  {
   "cell_type": "code",
   "execution_count": 1,
   "metadata": {
    "collapsed": false
   },
   "outputs": [
    {
     "data": {
      "text/plain": [
       "{\n",
       "  ConcatTable : table: 0x40b43ca0\n",
       "  SpatialAveragePooling : table: 0x41ce2898\n",
       "  BCECriterion : table: 0x4039c1e0\n",
       "  Reshape : table: 0x40400690\n",
       "  Jacobian : \n",
       "    {\n",
       "      forward : function: 0x410b5658\n",
       "      testAllUpdate : function: 0x40402c38\n",
       "      testDiagHessianInput : function: 0x40b3ce78\n",
       "      testDiagHessianWeight : function: 0x4136d538\n",
       "      testDiagHessianBias : function: 0x410b5678\n",
       "      testDiagHessian : function: 0x40b3ce58\n",
       "      testJacobian : function: 0x40b3cdf8\n",
       "      testIO : function: 0x40402c18\n",
       "      testJacobianUpdateParameters : function: 0x40b3ce38\n",
       "      backwardDiagHessian : function: 0x40402bd8\n",
       "      testJacobianParameters : function: 0x40b3ce18\n",
       "      backwardUpdate : function: 0x410b5638\n",
       "      forwardUpdate : function: 0x40b3cdd8\n",
       "      backward : function: 0x4136d518\n",
       "      linearModuleDiagHessian : function: 0x40402bf8\n",
       "    }\n",
       "  SparseLinear : table: 0x403fdd40\n",
       "  CAddTable : table: 0x41cefc58\n",
       "  TemporalConvolution : table: 0x410d2d58\n",
       "  PairwiseDistance : table: 0x416a1770\n",
       "  WeightedMSECriterion : table: 0x40387a38\n",
       "  SmoothL1Criterion : table: 0x41cf4710\n",
       "  TemporalSubSampling : table: 0x410c5ff8\n",
       "  TanhShrink : table: 0x410ceb60\n",
       "  MixtureTable : table: 0x4040bad0\n",
       "  Mul : table: 0x41ce5008\n",
       "  LogSoftMax : table: 0x416b2c90\n",
       "  Min : table: 0x41cdad20\n",
       "  Exp : table: 0x416ad278\n",
       "  Add : table: 0x41ce8a10\n",
       "  BatchNormalization : table: 0x4040c918\n",
       "  AbsCriterion : table: 0x40262e08\n",
       "  MultiCriterion : table: 0x41020648\n",
       "  Max : table: 0x41cdcc88\n",
       "  MulConstant : table: 0x41ce6a40\n",
       "  NarrowTable : table: 0x413814c8\n",
       "  View : table: 0x40401bc8\n",
       "  VolumetricConvolution : table: 0x410215c8\n",
       "  SpatialSubSampling : table: 0x4101e600\n",
       "  HardTanh : table: 0x416afae8\n",
       "  DistKLDivCriterion : table: 0x403fbcd0\n",
       "  SplitTable : table: 0x410d1110\n",
       "  DotProduct : table: 0x416a5490\n",
       "  HingeEmbeddingCriterion : table: 0x410c3b30\n",
       "  SpatialBatchNormalization : table: 0x410d29c8\n",
       "  DepthConcat : table: 0x403f85a0\n",
       "  Sigmoid : table: 0x416b3cf0\n",
       "  SpatialAdaptiveMaxPooling : table: 0x41cf0e60\n",
       "  Parallel : table: 0x403f3b70\n",
       "  SoftShrink : table: 0x410d5cc0\n",
       "  SpatialSubtractiveNormalization : table: 0x40392ca0\n",
       "  Log : table: 0x416ae5b8\n",
       "  SpatialDropout : table: 0x41cedc00\n",
       "  LeakyReLU : table: 0x410db268\n",
       "  VolumetricMaxPooling : table: 0x410df980\n",
       "  hessian : \n",
       "    {\n",
       "      enable : function: 0x4169f0e8\n",
       "    }\n",
       "  Linear : table: 0x403fb980\n",
       "  Euclidean : table: 0x41698d38\n",
       "  CriterionTable : table: 0x403f5178\n",
       "  SpatialMaxPooling : table: 0x4101c660\n",
       "  MultiMarginCriterion : table: 0x416a7db0\n",
       "  ELU : table: 0x402558e8\n",
       "  CSubTable : table: 0x41cf4f40\n",
       "  MultiLabelMarginCriterion : table: 0x40409b20\n",
       "  Copy : table: 0x41cd7920\n",
       "  L1HingeEmbeddingCriterion : table: 0x410b4e30\n",
       "  VolumetricAveragePooling : table: 0x416b1b80\n",
       "  StochasticGradient : table: 0x410bd670\n",
       "  SpatialContrastiveNormalization : table: 0x4102f768\n",
       "  CosineEmbeddingCriterion : table: 0x40b42c48\n",
       "  Padding : table: 0x4040f8e0\n",
       "  Container : table: 0x40b48bf0\n",
       "  MarginRankingCriterion : table: 0x40b48d28\n",
       "  Module : table: 0x40b43e18\n",
       "  ParallelCriterion : table: 0x41cef1b0\n",
       "  Concat : table: 0x403f06b0\n",
       "  CrossEntropyCriterion : table: 0x41c72cf0\n",
       "  LookupTable : table: 0x410be818\n",
       "  SpatialSoftMax : table: 0x410dc928\n",
       "  HardShrink : table: 0x410d4aa0\n",
       "  Abs : table: 0x410cfe98\n",
       "  SparseJacobian : \n",
       "    {\n",
       "      forward : function: 0x4039a5a8\n",
       "      testJacobian : function: 0x40b3cd90\n",
       "      testIO : function: 0x4039a5e8\n",
       " "
      ]
     },
     "execution_count": 1,
     "metadata": {},
     "output_type": "execute_result"
    },
    {
     "data": {
      "text/plain": [
       "     testAllUpdate : function: 0x4039a608\n",
       "      testJacobianParameters : function: 0x40b3cdb0\n",
       "      testJacobianUpdateParameters : function: 0x4039a5c8\n",
       "      forwardUpdate : function: 0x4039a630\n",
       "      backward : function: 0x410c46b8\n",
       "      backwardUpdate : function: 0x410c46d8\n",
       "    }\n",
       "  SoftMin : table: 0x416b60c8\n",
       "  WeightedEuclidean : table: 0x4169df58\n",
       "  L1Cost : table: 0x41013b10\n",
       "  PReLU : table: 0x410d9600\n",
       "  utils : \n",
       "    {\n",
       "      recursiveType : function: 0x40b3e3f0\n",
       "      recursiveResizeAs : function: 0x40b3e468\n",
       "      recursiveAdd : function: 0x40b3b600\n",
       "      addSingletonDimension : function: 0x40b3e430\n",
       "      recursiveFill : function: 0x40b3e488\n",
       "    }\n",
       "  JoinTable : table: 0x416a4728\n",
       "  ClassNLLCriterion : table: 0x403f9158\n",
       "  CMul : table: 0x41ce2518\n",
       "  CosineDistance : table: 0x416a2898\n",
       "  Index : table: 0x40407708\n",
       "  Mean : table: 0x41cdec80\n",
       "  Dropout : table: 0x41cec458\n",
       "  SoftPlus : table: 0x416b7310\n",
       "  SpatialDivisiveNormalization : table: 0x4136c078\n",
       "  L1Penalty : table: 0x4026e640\n",
       "  Power : table: 0x410d1388\n",
       "  Sqrt : table: 0x410d37b8\n",
       "  MM : table: 0x41ceac98\n",
       "  ReLU : table: 0x410d8590\n",
       "  test : function: 0x4179d978\n",
       "  SoftMax : table: 0x416b4d50\n",
       "  SpatialConvolutionMM : table: 0x410c5d20\n",
       "  Cosine : table: 0x416ac018\n",
       "  Clamp : table: 0x416b09f8\n",
       "  CMulTable : table: 0x41cf3660\n",
       "  LogSigmoid : table: 0x416b1c28\n",
       "  Threshold : table: 0x410d6b08\n",
       "  TemporalMaxPooling : table: 0x41f35518\n",
       "  MSECriterion : table: 0x41ce6088\n",
       "  Sum : table: 0x41ce0e10\n",
       "  SoftSign : table: 0x416b7da0\n",
       "  Normalize : table: 0x416a6cf0\n",
       "  ParallelTable : table: 0x41ce7f60\n",
       "  FlattenTable : table: 0x416af100\n",
       "  CDivTable : table: 0x41cf18c8\n",
       "  Tanh : table: 0x410cd790\n",
       "  Replicate : table: 0x40409240\n",
       "  Square : table: 0x410d2560\n",
       "  Select : table: 0x40404d28\n",
       "  GradientReversal : table: 0x41cd6da8\n",
       "  tables : \n",
       "    {\n",
       "      full : function: 0x4025db90\n",
       "      oneToOne : function: 0x41c65648\n",
       "      random : function: 0x4038a2f8\n",
       "    }\n",
       "  SpatialFullConvolutionMap : table: 0x410cf590\n",
       "  SpatialConvolution : table: 0x40b42760\n",
       "  Criterion : table: 0x403f8c80\n",
       "  SpatialConvolutionMap : table: 0x41c78c30\n",
       "  SpatialLPPooling : table: 0x40406aa0\n",
       "  Sequential : table: 0x403f4630\n",
       "  Transpose : table: 0x4040a350\n",
       "  SpatialUpSamplingNearest : table: 0x410cb588\n",
       "  SpatialFullConvolution : table: 0x4137b5e0\n",
       "  AddConstant : table: 0x41ceae40\n",
       "  RReLU : table: 0x410dd798\n",
       "  SpatialZeroPadding : table: 0x41c79080\n",
       "  Identity : table: 0x41ceb4a8\n",
       "  Narrow : table: 0x40405ad0\n",
       "  MarginCriterion : table: 0x410b9520\n",
       "  SelectTable : table: 0x416b39a8\n",
       "  VolumetricFullConvolution : table: 0x410129a8\n",
       "  SpatialFractionalMaxPooling : table: 0x410b66a8\n",
       "}\n"
      ]
     },
     "execution_count": 1,
     "metadata": {},
     "output_type": "execute_result"
    }
   ],
   "source": [
    "require 'nn'"
   ]
  },
  {
   "cell_type": "code",
   "execution_count": 2,
   "metadata": {
    "collapsed": true
   },
   "outputs": [],
   "source": [
    "module = nn.Dropout()"
   ]
  },
  {
   "cell_type": "code",
   "execution_count": 3,
   "metadata": {
    "collapsed": true
   },
   "outputs": [],
   "source": [
    "x = torch.Tensor({ {1,2,3,4}, {5,6,7,8} })"
   ]
  },
  {
   "cell_type": "code",
   "execution_count": 4,
   "metadata": {
    "collapsed": false
   },
   "outputs": [
    {
     "data": {
      "text/plain": [
       "  0   0   0   8\n",
       " 10   0   0   0\n",
       "[torch.DoubleTensor of size 2x4]\n",
       "\n"
      ]
     },
     "execution_count": 4,
     "metadata": {},
     "output_type": "execute_result"
    }
   ],
   "source": [
    "module:forward(x)"
   ]
  },
  {
   "cell_type": "code",
   "execution_count": 5,
   "metadata": {
    "collapsed": false
   },
   "outputs": [
    {
     "data": {
      "text/plain": [
       " 1  2  3  4\n",
       " 5  6  7  8\n",
       "[torch.DoubleTensor of size 2x4]\n",
       "\n"
      ]
     },
     "execution_count": 5,
     "metadata": {},
     "output_type": "execute_result"
    }
   ],
   "source": [
    "x"
   ]
  },
  {
   "cell_type": "code",
   "execution_count": null,
   "metadata": {
    "collapsed": true
   },
   "outputs": [],
   "source": []
  }
 ],
 "metadata": {
  "kernelspec": {
   "display_name": "iTorch",
   "language": "lua",
   "name": "itorch"
  },
  "language_info": {
   "name": "lua",
   "version": "20100"
  }
 },
 "nbformat": 4,
 "nbformat_minor": 0
}
