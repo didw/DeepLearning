{
 "cells": [
  {
   "cell_type": "code",
   "execution_count": 33,
   "metadata": {
    "collapsed": true
   },
   "outputs": [],
   "source": [
    "require 'nn'\n",
    "require 'optim'"
   ]
  },
  {
   "cell_type": "code",
   "execution_count": 34,
   "metadata": {
    "collapsed": true
   },
   "outputs": [],
   "source": [
    "local matio = require 'matio'\n",
    "data = matio.load('ex3data1.mat')"
   ]
  },
  {
   "cell_type": "code",
   "execution_count": 35,
   "metadata": {
    "collapsed": true
   },
   "outputs": [],
   "source": [
    "data"
   ]
  },
  {
   "cell_type": "code",
   "execution_count": 36,
   "metadata": {
    "collapsed": false
   },
   "outputs": [
    {
     "data": {
      "text/plain": [
       "{\n",
       "  y : DoubleTensor - size: 5000x1\n",
       "  X : DoubleTensor - size: 5000x400\n",
       "}\n"
      ]
     },
     "execution_count": 36,
     "metadata": {},
     "output_type": "execute_result"
    }
   ],
   "source": [
    "dataset_inputs = data.X"
   ]
  },
  {
   "cell_type": "code",
   "execution_count": 37,
   "metadata": {
    "collapsed": true
   },
   "outputs": [],
   "source": [
    "dataset_outputs = data.y"
   ]
  },
  {
   "cell_type": "code",
   "execution_count": 38,
   "metadata": {
    "collapsed": true
   },
   "outputs": [],
   "source": [
    "numOutput = torch.max(dataset_outputs) - torch.min(dataset_outputs) + 1"
   ]
  },
  {
   "cell_type": "code",
   "execution_count": 39,
   "metadata": {
    "collapsed": true
   },
   "outputs": [],
   "source": [
    "linLayer = nn.Linear(400,10)\n",
    "Sigmoid = nn.Sigmoid()"
   ]
  },
  {
   "cell_type": "code",
   "execution_count": 40,
   "metadata": {
    "collapsed": true
   },
   "outputs": [],
   "source": [
    "model = nn.Sequential()\n",
    "model:add(linLayer)\n",
    "model:add(Sigmoid)"
   ]
  },
  {
   "cell_type": "code",
   "execution_count": 41,
   "metadata": {
    "collapsed": true
   },
   "outputs": [],
   "source": [
    "criterion = nn.ClassNLLCriterion()"
   ]
  },
  {
   "cell_type": "code",
   "execution_count": 42,
   "metadata": {
    "collapsed": true
   },
   "outputs": [],
   "source": [
    "x, dl_dx = model:getParameters()"
   ]
  },
  {
   "cell_type": "code",
   "execution_count": 43,
   "metadata": {
    "collapsed": true
   },
   "outputs": [],
   "source": [
    "feval = function(x_new)\n",
    "    if x ~= x_new then\n",
    "        x:copy(x_new)\n",
    "    end\n",
    "    _nidx_ = (_nidx_ or 0) + 1\n",
    "    if _nidx_ > (#dataset_inputs)[1] then _nidx_ = 1 end\n",
    "    \n",
    "    local inputs = dataset_inputs[_nidx_]\n",
    "    local target = dataset_outputs[_nidx_]\n",
    "    \n",
    "    dl_dx:zero()\n",
    "    \n",
    "    local loss_x = criterion:forward(model:forward(inputs), target)\n",
    "    model:backward(inputs, criterion:backward(model.output, target))\n",
    "    \n",
    "    return loss_x, dl_dx\n",
    "end"
   ]
  },
  {
   "cell_type": "code",
   "execution_count": 44,
   "metadata": {
    "collapsed": true
   },
   "outputs": [],
   "source": [
    "sgd_params = {\n",
    "    learningRate = 1e-3,\n",
    "    learningRateDecay = 1e-4,\n",
    "    weightDecay = 0,\n",
    "    momentum = 0\n",
    "}"
   ]
  },
  {
   "cell_type": "code",
   "execution_count": 45,
   "metadata": {
    "collapsed": true
   },
   "outputs": [],
   "source": [
    "epochs = 1e3"
   ]
  },
  {
   "cell_type": "code",
   "execution_count": null,
   "metadata": {
    "collapsed": false
   },
   "outputs": [
    {
     "data": {
      "text/plain": [
       "epoch = 100 of 1000 current loss = -0.98286961087894\t\n"
      ]
     },
     "execution_count": 46,
     "metadata": {},
     "output_type": "execute_result"
    },
    {
     "data": {
      "text/plain": [
       "epoch = 200 of 1000 current loss = -0.98530460372964\t\n"
      ]
     },
     "execution_count": 46,
     "metadata": {},
     "output_type": "execute_result"
    },
    {
     "data": {
      "text/plain": [
       "epoch = 300 of 1000 current loss = -0.98642744591955\t\n"
      ]
     },
     "execution_count": 46,
     "metadata": {},
     "output_type": "execute_result"
    }
   ],
   "source": [
    "for i = 1, epochs do\n",
    "    current_loss = 0\n",
    "    for i = 1, (#dataset_inputs)[1] do\n",
    "        _, fs = optim.sgd(feval, x, sgd_params)\n",
    "        current_loss = current_loss + fs[1]\n",
    "    end\n",
    "    current_loss = current_loss / (#dataset_inputs)[1]\n",
    "    if i%100 == 0 then\n",
    "        print('epoch = ' .. i .. ' of ' .. epochs .. ' current loss = ' .. current_loss)\n",
    "    end\n",
    "end"
   ]
  },
  {
   "cell_type": "code",
   "execution_count": null,
   "metadata": {
    "collapsed": true
   },
   "outputs": [],
   "source": [
    "function maxIndex(a)\n",
    "    local idx = 0\n",
    "    local mx = -1e5\n",
    "    for i = 1,(#a)[1] do\n",
    "        if mx < a[i] then\n",
    "            mx = a[i]\n",
    "            idx = i\n",
    "        end\n",
    "    end\n",
    "    return idx\n",
    "end"
   ]
  },
  {
   "cell_type": "code",
   "execution_count": null,
   "metadata": {
    "collapsed": false
   },
   "outputs": [],
   "source": [
    "acc = 0.0\n",
    "for i = 1, (#dataset_inputs)[1] do\n",
    "    if (maxIndex(model:forward(dataset_inputs[i])) == dataset_outputs[i][1]) then\n",
    "        acc = acc + 1\n",
    "    end\n",
    "end\n",
    "print('accuracy: ' .. acc/(#dataset_inputs)[1])"
   ]
  }
 ],
 "metadata": {
  "kernelspec": {
   "display_name": "iTorch",
   "language": "lua",
   "name": "itorch"
  },
  "language_info": {
   "name": "lua",
   "version": "20100"
  }
 },
 "nbformat": 4,
 "nbformat_minor": 0
}
