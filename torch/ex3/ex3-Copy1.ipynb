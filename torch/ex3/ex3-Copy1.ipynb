{
 "cells": [
  {
   "cell_type": "markdown",
   "metadata": {},
   "source": [
    "[example-logistic-regression](https://github.com/torch/demos/blob/master/logistic-regression/example-logistic-regression.lua)\n"
   ]
  },
  {
   "cell_type": "code",
   "execution_count": 1,
   "metadata": {
    "collapsed": true
   },
   "outputs": [],
   "source": [
    "require 'nn'\n",
    "require 'optim'"
   ]
  },
  {
   "cell_type": "code",
   "execution_count": 2,
   "metadata": {
    "collapsed": false
   },
   "outputs": [
    {
     "ename": "[string \"local matio = require 'matio'...\"]:1: module 'matio' not found:\n\tno field package.preload['matio']\n\tno file '/root/.luarocks/share/lua/5.1/matio.lua'\n\tno file '/root/.luarocks/share/lua/5.1/matio/init.lua'\n\tno file '/root/torch/install/share/lua/5.1/matio.lua'\n\tno file '/root/torch/install/share/lua/5.1/matio/init.lua'\n\tno file './matio.lua'\n\tno file '/root/torch/install/share/luajit-2.1.0-beta1/matio.lua'\n\tno file '/usr/local/share/lua/5.1/matio.lua'\n\tno file '/usr/local/share/lua/5.1/matio/init.lua'\n\tno file '/root/.luarocks/lib/lua/5.1/matio.so'\n\tno file '/root/torch/install/lib/lua/5.1/matio.so'\n\tno file './matio.so'\n\tno file '/usr/local/lib/lua/5.1/matio.so'\n\tno file '/usr/local/lib/lua/5.1/loadall.so'\nstack traceback:\n\t[C]: in function 'require'\n\t[string \"local matio = require 'matio'...\"]:1: in main chunk\n\t[C]: in function 'xpcall'\n\t/root/torch/install/share/lua/5.1/itorch/main.lua:179: in function </root/torch/install/share/lua/5.1/itorch/main.lua:143>\n\t/root/torch/install/share/lua/5.1/lzmq/poller.lua:75: in function 'poll'\n\t/root/torch/install/share/lua/5.1/lzmq/impl/loop.lua:307: in function 'poll'\n\t/root/torch/install/share/lua/5.1/lzmq/impl/loop.lua:325: in function 'sleep_ex'\n\t/root/torch/install/share/lua/5.1/lzmq/impl/loop.lua:370: in function 'start'\n\t/root/torch/install/share/lua/5.1/itorch/main.lua:350: in main chunk\n\t[C]: in function 'require'\n\t[string \"arg={'/root/.local/share/jupyter/runtime/kern...\"]:1: in main chunk",
     "evalue": "",
     "output_type": "error",
     "traceback": [
      "[string \"local matio = require 'matio'...\"]:1: module 'matio' not found:\n\tno field package.preload['matio']\n\tno file '/root/.luarocks/share/lua/5.1/matio.lua'\n\tno file '/root/.luarocks/share/lua/5.1/matio/init.lua'\n\tno file '/root/torch/install/share/lua/5.1/matio.lua'\n\tno file '/root/torch/install/share/lua/5.1/matio/init.lua'\n\tno file './matio.lua'\n\tno file '/root/torch/install/share/luajit-2.1.0-beta1/matio.lua'\n\tno file '/usr/local/share/lua/5.1/matio.lua'\n\tno file '/usr/local/share/lua/5.1/matio/init.lua'\n\tno file '/root/.luarocks/lib/lua/5.1/matio.so'\n\tno file '/root/torch/install/lib/lua/5.1/matio.so'\n\tno file './matio.so'\n\tno file '/usr/local/lib/lua/5.1/matio.so'\n\tno file '/usr/local/lib/lua/5.1/loadall.so'\nstack traceback:\n\t[C]: in function 'require'\n\t[string \"local matio = require 'matio'...\"]:1: in main chunk\n\t[C]: in function 'xpcall'\n\t/root/torch/install/share/lua/5.1/itorch/main.lua:179: in function </root/torch/install/share/lua/5.1/itorch/main.lua:143>\n\t/root/torch/install/share/lua/5.1/lzmq/poller.lua:75: in function 'poll'\n\t/root/torch/install/share/lua/5.1/lzmq/impl/loop.lua:307: in function 'poll'\n\t/root/torch/install/share/lua/5.1/lzmq/impl/loop.lua:325: in function 'sleep_ex'\n\t/root/torch/install/share/lua/5.1/lzmq/impl/loop.lua:370: in function 'start'\n\t/root/torch/install/share/lua/5.1/itorch/main.lua:350: in main chunk\n\t[C]: in function 'require'\n\t[string \"arg={'/root/.local/share/jupyter/runtime/kern...\"]:1: in main chunk"
     ]
    }
   ],
   "source": [
    "local matio = require 'matio'\n",
    "data = matio.load('ex3data1.mat')"
   ]
  },
  {
   "cell_type": "code",
   "execution_count": 3,
   "metadata": {
    "collapsed": false,
    "scrolled": true
   },
   "outputs": [
    {
     "ename": "[string \"dataset_inputs = data.X...\"]:1: attempt to index global 'data' (a nil value)\nstack traceback:\n\t[string \"dataset_inputs = data.X...\"]:1: in main chunk\n\t[C]: in function 'xpcall'\n\t/root/torch/install/share/lua/5.1/itorch/main.lua:179: in function </root/torch/install/share/lua/5.1/itorch/main.lua:143>\n\t/root/torch/install/share/lua/5.1/lzmq/poller.lua:75: in function 'poll'\n\t/root/torch/install/share/lua/5.1/lzmq/impl/loop.lua:307: in function 'poll'\n\t/root/torch/install/share/lua/5.1/lzmq/impl/loop.lua:325: in function 'sleep_ex'\n\t/root/torch/install/share/lua/5.1/lzmq/impl/loop.lua:370: in function 'start'\n\t/root/torch/install/share/lua/5.1/itorch/main.lua:350: in main chunk\n\t[C]: in function 'require'\n\t[string \"arg={'/root/.local/share/jupyter/runtime/kern...\"]:1: in main chunk",
     "evalue": "",
     "output_type": "error",
     "traceback": [
      "[string \"dataset_inputs = data.X...\"]:1: attempt to index global 'data' (a nil value)\nstack traceback:\n\t[string \"dataset_inputs = data.X...\"]:1: in main chunk\n\t[C]: in function 'xpcall'\n\t/root/torch/install/share/lua/5.1/itorch/main.lua:179: in function </root/torch/install/share/lua/5.1/itorch/main.lua:143>\n\t/root/torch/install/share/lua/5.1/lzmq/poller.lua:75: in function 'poll'\n\t/root/torch/install/share/lua/5.1/lzmq/impl/loop.lua:307: in function 'poll'\n\t/root/torch/install/share/lua/5.1/lzmq/impl/loop.lua:325: in function 'sleep_ex'\n\t/root/torch/install/share/lua/5.1/lzmq/impl/loop.lua:370: in function 'start'\n\t/root/torch/install/share/lua/5.1/itorch/main.lua:350: in main chunk\n\t[C]: in function 'require'\n\t[string \"arg={'/root/.local/share/jupyter/runtime/kern...\"]:1: in main chunk"
     ]
    }
   ],
   "source": [
    "dataset_inputs = data.X"
   ]
  },
  {
   "cell_type": "code",
   "execution_count": 4,
   "metadata": {
    "collapsed": false
   },
   "outputs": [
    {
     "ename": "[string \"dataset_outputs = data.y...\"]:1: attempt to index global 'data' (a nil value)\nstack traceback:\n\t[string \"dataset_outputs = data.y...\"]:1: in main chunk\n\t[C]: in function 'xpcall'\n\t/root/torch/install/share/lua/5.1/itorch/main.lua:179: in function </root/torch/install/share/lua/5.1/itorch/main.lua:143>\n\t/root/torch/install/share/lua/5.1/lzmq/poller.lua:75: in function 'poll'\n\t/root/torch/install/share/lua/5.1/lzmq/impl/loop.lua:307: in function 'poll'\n\t/root/torch/install/share/lua/5.1/lzmq/impl/loop.lua:325: in function 'sleep_ex'\n\t/root/torch/install/share/lua/5.1/lzmq/impl/loop.lua:370: in function 'start'\n\t/root/torch/install/share/lua/5.1/itorch/main.lua:350: in main chunk\n\t[C]: in function 'require'\n\t[string \"arg={'/root/.local/share/jupyter/runtime/kern...\"]:1: in main chunk",
     "evalue": "",
     "output_type": "error",
     "traceback": [
      "[string \"dataset_outputs = data.y...\"]:1: attempt to index global 'data' (a nil value)\nstack traceback:\n\t[string \"dataset_outputs = data.y...\"]:1: in main chunk\n\t[C]: in function 'xpcall'\n\t/root/torch/install/share/lua/5.1/itorch/main.lua:179: in function </root/torch/install/share/lua/5.1/itorch/main.lua:143>\n\t/root/torch/install/share/lua/5.1/lzmq/poller.lua:75: in function 'poll'\n\t/root/torch/install/share/lua/5.1/lzmq/impl/loop.lua:307: in function 'poll'\n\t/root/torch/install/share/lua/5.1/lzmq/impl/loop.lua:325: in function 'sleep_ex'\n\t/root/torch/install/share/lua/5.1/lzmq/impl/loop.lua:370: in function 'start'\n\t/root/torch/install/share/lua/5.1/itorch/main.lua:350: in main chunk\n\t[C]: in function 'require'\n\t[string \"arg={'/root/.local/share/jupyter/runtime/kern...\"]:1: in main chunk"
     ]
    }
   ],
   "source": [
    "dataset_outputs = data.y"
   ]
  },
  {
   "cell_type": "code",
   "execution_count": 5,
   "metadata": {
    "collapsed": false
   },
   "outputs": [
    {
     "ename": "invalid arguments: nil \nexpected arguments: DoubleTensor | [*DoubleTensor*] [*LongTensor*] DoubleTensor index\nstack traceback:\n\t[C]: at 0x7f6175e864f0\n\t[C]: in function 'max'\n\t[string \"numOutput = torch.max(dataset_outputs) - torc...\"]:1: in main chunk\n\t[C]: in function 'xpcall'\n\t/root/torch/install/share/lua/5.1/itorch/main.lua:179: in function </root/torch/install/share/lua/5.1/itorch/main.lua:143>\n\t/root/torch/install/share/lua/5.1/lzmq/poller.lua:75: in function 'poll'\n\t/root/torch/install/share/lua/5.1/lzmq/impl/loop.lua:307: in function 'poll'\n\t/root/torch/install/share/lua/5.1/lzmq/impl/loop.lua:325: in function 'sleep_ex'\n\t/root/torch/install/share/lua/5.1/lzmq/impl/loop.lua:370: in function 'start'\n\t/root/torch/install/share/lua/5.1/itorch/main.lua:350: in main chunk\n\t[C]: in function 'require'\n\t[string \"arg={'/root/.local/share/jupyter/runtime/kern...\"]:1: in main chunk",
     "evalue": "",
     "output_type": "error",
     "traceback": [
      "invalid arguments: nil \nexpected arguments: DoubleTensor | [*DoubleTensor*] [*LongTensor*] DoubleTensor index\nstack traceback:\n\t[C]: at 0x7f6175e864f0\n\t[C]: in function 'max'\n\t[string \"numOutput = torch.max(dataset_outputs) - torc...\"]:1: in main chunk\n\t[C]: in function 'xpcall'\n\t/root/torch/install/share/lua/5.1/itorch/main.lua:179: in function </root/torch/install/share/lua/5.1/itorch/main.lua:143>\n\t/root/torch/install/share/lua/5.1/lzmq/poller.lua:75: in function 'poll'\n\t/root/torch/install/share/lua/5.1/lzmq/impl/loop.lua:307: in function 'poll'\n\t/root/torch/install/share/lua/5.1/lzmq/impl/loop.lua:325: in function 'sleep_ex'\n\t/root/torch/install/share/lua/5.1/lzmq/impl/loop.lua:370: in function 'start'\n\t/root/torch/install/share/lua/5.1/itorch/main.lua:350: in main chunk\n\t[C]: in function 'require'\n\t[string \"arg={'/root/.local/share/jupyter/runtime/kern...\"]:1: in main chunk"
     ]
    }
   ],
   "source": [
    "numOutput = torch.max(dataset_outputs) - torch.min(dataset_outputs) + 1"
   ]
  },
  {
   "cell_type": "code",
   "execution_count": 6,
   "metadata": {
    "collapsed": false
   },
   "outputs": [],
   "source": [
    "linLayer = nn.Linear(400,10)"
   ]
  },
  {
   "cell_type": "code",
   "execution_count": 7,
   "metadata": {
    "collapsed": false
   },
   "outputs": [
    {
     "ename": "[string \"model = nn.Sequential()...\"]:3: attempt to call field 'softMaxLayer' (a nil value)\nstack traceback:\n\t[string \"model = nn.Sequential()...\"]:3: in main chunk\n\t[C]: in function 'xpcall'\n\t/root/torch/install/share/lua/5.1/itorch/main.lua:179: in function </root/torch/install/share/lua/5.1/itorch/main.lua:143>\n\t/root/torch/install/share/lua/5.1/lzmq/poller.lua:75: in function 'poll'\n\t/root/torch/install/share/lua/5.1/lzmq/impl/loop.lua:307: in function 'poll'\n\t/root/torch/install/share/lua/5.1/lzmq/impl/loop.lua:325: in function 'sleep_ex'\n\t/root/torch/install/share/lua/5.1/lzmq/impl/loop.lua:370: in function 'start'\n\t/root/torch/install/share/lua/5.1/itorch/main.lua:350: in main chunk\n\t[C]: in function 'require'\n\t[string \"arg={'/root/.local/share/jupyter/runtime/kern...\"]:1: in main chunk",
     "evalue": "",
     "output_type": "error",
     "traceback": [
      "[string \"model = nn.Sequential()...\"]:3: attempt to call field 'softMaxLayer' (a nil value)\nstack traceback:\n\t[string \"model = nn.Sequential()...\"]:3: in main chunk\n\t[C]: in function 'xpcall'\n\t/root/torch/install/share/lua/5.1/itorch/main.lua:179: in function </root/torch/install/share/lua/5.1/itorch/main.lua:143>\n\t/root/torch/install/share/lua/5.1/lzmq/poller.lua:75: in function 'poll'\n\t/root/torch/install/share/lua/5.1/lzmq/impl/loop.lua:307: in function 'poll'\n\t/root/torch/install/share/lua/5.1/lzmq/impl/loop.lua:325: in function 'sleep_ex'\n\t/root/torch/install/share/lua/5.1/lzmq/impl/loop.lua:370: in function 'start'\n\t/root/torch/install/share/lua/5.1/itorch/main.lua:350: in main chunk\n\t[C]: in function 'require'\n\t[string \"arg={'/root/.local/share/jupyter/runtime/kern...\"]:1: in main chunk"
     ]
    }
   ],
   "source": [
    "model = nn.Sequential()\n",
    "model:add(linLayer)\n",
    "model:add(nn.softMaxLayer())"
   ]
  },
  {
   "cell_type": "code",
   "execution_count": 8,
   "metadata": {
    "collapsed": false
   },
   "outputs": [
    {
     "data": {
      "text/plain": [
       "nn.Sequential {\n",
       "  [input -> (1) -> output]\n",
       "  (1): nn.Linear(400 -> 10)\n",
       "}\n",
       "{\n",
       "  gradInput : DoubleTensor - empty\n",
       "  modules : \n",
       "    {\n",
       "      1 : \n",
       "        nn.Linear(400 -> 10)\n",
       "        {\n",
       "          gradBias : DoubleTensor - size: 10\n",
       "          weight : DoubleTensor - size: 10x400\n",
       "          bias : DoubleTensor - size: 10\n",
       "          gradInput : DoubleTensor - empty\n",
       "          gradWeight : DoubleTensor - size: 10x400\n",
       "          output : DoubleTensor - empty\n",
       "        }\n",
       "    }\n",
       "  output : DoubleTensor - empty\n",
       "}\n"
      ]
     },
     "execution_count": 8,
     "metadata": {},
     "output_type": "execute_result"
    }
   ],
   "source": [
    "model"
   ]
  },
  {
   "cell_type": "code",
   "execution_count": 9,
   "metadata": {
    "collapsed": false
   },
   "outputs": [],
   "source": [
    "criterion = nn.ClassNLLCriterion()"
   ]
  },
  {
   "cell_type": "code",
   "execution_count": 10,
   "metadata": {
    "collapsed": true
   },
   "outputs": [],
   "source": [
    "x, dl_dx = model:getParameters()"
   ]
  },
  {
   "cell_type": "code",
   "execution_count": 11,
   "metadata": {
    "collapsed": true
   },
   "outputs": [],
   "source": [
    "feval = function()\n",
    "    _nidx_ = (_nidx_ or 0) + 1\n",
    "    if _nidx_ > (#dataset_inputs)[1] then _nidx_ = 1 end\n",
    "    \n",
    "    local inputs = dataset_inputs[_nidx_]\n",
    "    local target = dataset_outputs[_nidx_]\n",
    "    \n",
    "    dl_dx:zero()\n",
    "    \n",
    "    local loss_x = criterion:forward(model:forward(inputs), target)\n",
    "    model:backward(inputs, criterion:backward(model.output, target))\n",
    "        \n",
    "    return loss_x, dl_dx\n",
    "end"
   ]
  },
  {
   "cell_type": "code",
   "execution_count": 12,
   "metadata": {
    "collapsed": true
   },
   "outputs": [],
   "source": [
    "sgd_params = {\n",
    "    learningRate = 1e-2,\n",
    "    learningRateDecay = 1e-3,\n",
    "    weightDecay = 0,\n",
    "    momentum = 0\n",
    "}"
   ]
  },
  {
   "cell_type": "code",
   "execution_count": 13,
   "metadata": {
    "collapsed": true
   },
   "outputs": [],
   "source": [
    "epochs = 1e2"
   ]
  },
  {
   "cell_type": "code",
   "execution_count": 14,
   "metadata": {
    "collapsed": false,
    "scrolled": false
   },
   "outputs": [
    {
     "ename": "[string \"for i = 1, epochs do...\"]:3: attempt to get length of global 'dataset_inputs' (a nil value)\nstack traceback:\n\t[string \"for i = 1, epochs do...\"]:3: in main chunk\n\t[C]: in function 'xpcall'\n\t/root/torch/install/share/lua/5.1/itorch/main.lua:179: in function </root/torch/install/share/lua/5.1/itorch/main.lua:143>\n\t/root/torch/install/share/lua/5.1/lzmq/poller.lua:75: in function 'poll'\n\t/root/torch/install/share/lua/5.1/lzmq/impl/loop.lua:307: in function 'poll'\n\t/root/torch/install/share/lua/5.1/lzmq/impl/loop.lua:325: in function 'sleep_ex'\n\t/root/torch/install/share/lua/5.1/lzmq/impl/loop.lua:370: in function 'start'\n\t/root/torch/install/share/lua/5.1/itorch/main.lua:350: in main chunk\n\t[C]: in function 'require'\n\t[string \"arg={'/root/.local/share/jupyter/runtime/kern...\"]:1: in main chunk",
     "evalue": "",
     "output_type": "error",
     "traceback": [
      "[string \"for i = 1, epochs do...\"]:3: attempt to get length of global 'dataset_inputs' (a nil value)\nstack traceback:\n\t[string \"for i = 1, epochs do...\"]:3: in main chunk\n\t[C]: in function 'xpcall'\n\t/root/torch/install/share/lua/5.1/itorch/main.lua:179: in function </root/torch/install/share/lua/5.1/itorch/main.lua:143>\n\t/root/torch/install/share/lua/5.1/lzmq/poller.lua:75: in function 'poll'\n\t/root/torch/install/share/lua/5.1/lzmq/impl/loop.lua:307: in function 'poll'\n\t/root/torch/install/share/lua/5.1/lzmq/impl/loop.lua:325: in function 'sleep_ex'\n\t/root/torch/install/share/lua/5.1/lzmq/impl/loop.lua:370: in function 'start'\n\t/root/torch/install/share/lua/5.1/itorch/main.lua:350: in main chunk\n\t[C]: in function 'require'\n\t[string \"arg={'/root/.local/share/jupyter/runtime/kern...\"]:1: in main chunk"
     ]
    }
   ],
   "source": [
    "for i = 1, epochs do\n",
    "    current_loss = 0\n",
    "    for i = 1, (#dataset_inputs)[1] do\n",
    "        _, fs = optim.sgd(feval, x, sgd_params)\n",
    "        current_loss = current_loss + fs[1]\n",
    "    end\n",
    "    \n",
    "    current_loss = current_loss / (#dataset_inputs)[1]\n",
    "    if i%10 == 1 then\n",
    "        print('epoch = ' .. i .. ' of ' .. epochs .. ' current loss = ' .. current_loss)\n",
    "    end\n",
    "end"
   ]
  },
  {
   "cell_type": "code",
   "execution_count": 15,
   "metadata": {
    "collapsed": false
   },
   "outputs": [],
   "source": [
    "function maxIndex(a)\n",
    "    local idx = 0\n",
    "    local mx = -1e5\n",
    "    for i = 1,(#a)[1] do\n",
    "        if mx < a[i] then\n",
    "            mx = a[i]\n",
    "            idx = i\n",
    "        end\n",
    "    end\n",
    "    return idx\n",
    "end"
   ]
  },
  {
   "cell_type": "code",
   "execution_count": 16,
   "metadata": {
    "collapsed": false
   },
   "outputs": [
    {
     "ename": "[string \"acc = 0.0...\"]:2: attempt to get length of global 'dataset_inputs' (a nil value)\nstack traceback:\n\t[string \"acc = 0.0...\"]:2: in main chunk\n\t[C]: in function 'xpcall'\n\t/root/torch/install/share/lua/5.1/itorch/main.lua:179: in function </root/torch/install/share/lua/5.1/itorch/main.lua:143>\n\t/root/torch/install/share/lua/5.1/lzmq/poller.lua:75: in function 'poll'\n\t/root/torch/install/share/lua/5.1/lzmq/impl/loop.lua:307: in function 'poll'\n\t/root/torch/install/share/lua/5.1/lzmq/impl/loop.lua:325: in function 'sleep_ex'\n\t/root/torch/install/share/lua/5.1/lzmq/impl/loop.lua:370: in function 'start'\n\t/root/torch/install/share/lua/5.1/itorch/main.lua:350: in main chunk\n\t[C]: in function 'require'\n\t[string \"arg={'/root/.local/share/jupyter/runtime/kern...\"]:1: in main chunk",
     "evalue": "",
     "output_type": "error",
     "traceback": [
      "[string \"acc = 0.0...\"]:2: attempt to get length of global 'dataset_inputs' (a nil value)\nstack traceback:\n\t[string \"acc = 0.0...\"]:2: in main chunk\n\t[C]: in function 'xpcall'\n\t/root/torch/install/share/lua/5.1/itorch/main.lua:179: in function </root/torch/install/share/lua/5.1/itorch/main.lua:143>\n\t/root/torch/install/share/lua/5.1/lzmq/poller.lua:75: in function 'poll'\n\t/root/torch/install/share/lua/5.1/lzmq/impl/loop.lua:307: in function 'poll'\n\t/root/torch/install/share/lua/5.1/lzmq/impl/loop.lua:325: in function 'sleep_ex'\n\t/root/torch/install/share/lua/5.1/lzmq/impl/loop.lua:370: in function 'start'\n\t/root/torch/install/share/lua/5.1/itorch/main.lua:350: in main chunk\n\t[C]: in function 'require'\n\t[string \"arg={'/root/.local/share/jupyter/runtime/kern...\"]:1: in main chunk"
     ]
    }
   ],
   "source": [
    "acc = 0.0\n",
    "for i = 1, (#dataset_inputs)[1] do\n",
    "    if (maxIndex(model:forward(dataset_inputs[i])) == dataset_outputs[i][1]) then\n",
    "        acc = acc + 1\n",
    "    end\n",
    "end\n",
    "print('accuracy: ' .. acc/(#dataset_inputs)[1])"
   ]
  }
 ],
 "metadata": {
  "kernelspec": {
   "display_name": "iTorch",
   "language": "lua",
   "name": "itorch"
  },
  "language_info": {
   "name": "lua",
   "version": "20100"
  }
 },
 "nbformat": 4,
 "nbformat_minor": 0
}
