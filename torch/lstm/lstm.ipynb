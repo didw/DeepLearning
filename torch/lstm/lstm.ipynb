{
 "cells": [
  {
   "cell_type": "code",
   "execution_count": 1,
   "metadata": {
    "collapsed": false
   },
   "outputs": [
    {
     "data": {
      "text/plain": [
       "{\n",
       "  setDebug : function: 0x402ce690\n",
       "  Node : table: 0x41dd9730\n",
       "  annotateNodes : function: 0x41de73a0\n",
       "  nest : function: 0x41dd2cf0\n",
       "  JustTable : table: 0x402cf708\n",
       "  simple_print : \n",
       "    {\n",
       "      todot : function: 0x402d3ba8\n",
       "      dot : function: 0x402d3be8\n",
       "    }\n",
       "  display : function: 0x41de73c0\n",
       "}\n"
      ]
     },
     "execution_count": 1,
     "metadata": {},
     "output_type": "execute_result"
    }
   ],
   "source": [
    "require('nngraph')"
   ]
  },
  {
   "cell_type": "code",
   "execution_count": 2,
   "metadata": {
    "collapsed": false
   },
   "outputs": [
    {
     "ename": "[string \"local f = function() return require('base') e...\"]:1: module 'base' not found:\n\tno field package.preload['base']\n\tno file '/root/.luarocks/share/lua/5.1/base.lua'\n\tno file '/root/.luarocks/share/lua/5.1/base/init.lua'\n\tno file '/root/torch/install/share/lua/5.1/base.lua'\n\tno file '/root/torch/install/share/lua/5.1/base/init.lua'\n\tno file './base.lua'\n\tno file '/root/torch/install/share/luajit-2.1.0-beta1/base.lua'\n\tno file '/usr/local/share/lua/5.1/base.lua'\n\tno file '/usr/local/share/lua/5.1/base/init.lua'\n\tno file '/root/.luarocks/lib/lua/5.1/base.so'\n\tno file '/root/torch/install/lib/lua/5.1/base.so'\n\tno file './base.so'\n\tno file '/usr/local/lib/lua/5.1/base.so'\n\tno file '/usr/local/lib/lua/5.1/loadall.so'\nstack traceback:\n\t[C]: in function 'f'\n\t[string \"local f = function() return require('base') e...\"]:1: in main chunk\n\t[C]: in function 'xpcall'\n\t/root/torch/install/share/lua/5.1/itorch/main.lua:179: in function </root/torch/install/share/lua/5.1/itorch/main.lua:143>\n\t/root/torch/install/share/lua/5.1/lzmq/poller.lua:75: in function 'poll'\n\t/root/torch/install/share/lua/5.1/lzmq/impl/loop.lua:307: in function 'poll'\n\t/root/torch/install/share/lua/5.1/lzmq/impl/loop.lua:325: in function 'sleep_ex'\n\t/root/torch/install/share/lua/5.1/lzmq/impl/loop.lua:370: in function 'start'\n\t/root/torch/install/share/lua/5.1/itorch/main.lua:350: in main chunk\n\t[C]: in function 'require'\n\t[string \"arg={'/root/.local/share/jupyter/runtime/kern...\"]:1: in main chunk",
     "evalue": "",
     "output_type": "error",
     "traceback": [
      "[string \"local f = function() return require('base') e...\"]:1: module 'base' not found:\n\tno field package.preload['base']\n\tno file '/root/.luarocks/share/lua/5.1/base.lua'\n\tno file '/root/.luarocks/share/lua/5.1/base/init.lua'\n\tno file '/root/torch/install/share/lua/5.1/base.lua'\n\tno file '/root/torch/install/share/lua/5.1/base/init.lua'\n\tno file './base.lua'\n\tno file '/root/torch/install/share/luajit-2.1.0-beta1/base.lua'\n\tno file '/usr/local/share/lua/5.1/base.lua'\n\tno file '/usr/local/share/lua/5.1/base/init.lua'\n\tno file '/root/.luarocks/lib/lua/5.1/base.so'\n\tno file '/root/torch/install/lib/lua/5.1/base.so'\n\tno file './base.so'\n\tno file '/usr/local/lib/lua/5.1/base.so'\n\tno file '/usr/local/lib/lua/5.1/loadall.so'\nstack traceback:\n\t[C]: in function 'f'\n\t[string \"local f = function() return require('base') e...\"]:1: in main chunk\n\t[C]: in function 'xpcall'\n\t/root/torch/install/share/lua/5.1/itorch/main.lua:179: in function </root/torch/install/share/lua/5.1/itorch/main.lua:143>\n\t/root/torch/install/share/lua/5.1/lzmq/poller.lua:75: in function 'poll'\n\t/root/torch/install/share/lua/5.1/lzmq/impl/loop.lua:307: in function 'poll'\n\t/root/torch/install/share/lua/5.1/lzmq/impl/loop.lua:325: in function 'sleep_ex'\n\t/root/torch/install/share/lua/5.1/lzmq/impl/loop.lua:370: in function 'start'\n\t/root/torch/install/share/lua/5.1/itorch/main.lua:350: in main chunk\n\t[C]: in function 'require'\n\t[string \"arg={'/root/.local/share/jupyter/runtime/kern...\"]:1: in main chunk"
     ]
    }
   ],
   "source": [
    "require('base')"
   ]
  },
  {
   "cell_type": "code",
   "execution_count": null,
   "metadata": {
    "collapsed": true
   },
   "outputs": [],
   "source": []
  }
 ],
 "metadata": {
  "kernelspec": {
   "display_name": "iTorch",
   "language": "lua",
   "name": "itorch"
  },
  "language_info": {
   "name": "lua",
   "version": "20100"
  }
 },
 "nbformat": 4,
 "nbformat_minor": 0
}
