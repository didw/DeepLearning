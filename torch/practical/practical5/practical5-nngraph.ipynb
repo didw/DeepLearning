{
 "metadata": {
  "language": "lua",
  "name": "",
  "signature": "sha256:77e0b129f24dddaf2ad00d96769962f2353da23f694bab5290ce4896a87558d5"
 },
 "nbformat": 3,
 "nbformat_minor": 0,
 "worksheets": [
  {
   "cells": [
    {
     "cell_type": "markdown",
     "metadata": {},
     "source": [
      "z = x1 + x2 \f",
      " linear(x3) "
     ]
    },
    {
     "cell_type": "markdown",
     "metadata": {},
     "source": [
      "create an instance of nngraph\u2019s nn.gModule class that computes the expression marked (\u2217) from above. You can make up values for the sizes of the xi\u2019s, as you need to specify sizes for the nn.Linear class. Feel free to look at the nngraph README linked to above for hints.\n",
      "Call its **forward** function to verify that it works, and compare this result to something computed by hand."
     ]
    },
    {
     "cell_type": "code",
     "collapsed": false,
     "input": [
      "require 'nn';\n",
      "require 'nngraph';"
     ],
     "language": "python",
     "metadata": {},
     "outputs": [],
     "prompt_number": 13
    },
    {
     "cell_type": "code",
     "collapsed": false,
     "input": [
      "x1 = nn.Identity(10)()\n",
      "x2 = nn.Identity(10)()\n",
      "x3 = nn.Linear(20, 10)()"
     ],
     "language": "python",
     "metadata": {},
     "outputs": [],
     "prompt_number": 121
    },
    {
     "cell_type": "code",
     "collapsed": false,
     "input": [
      "x3.data.module.weight:fill(1)\n",
      "x3.data.module.bias:fill(0)"
     ],
     "language": "python",
     "metadata": {},
     "outputs": [],
     "prompt_number": 122
    },
    {
     "cell_type": "code",
     "collapsed": false,
     "input": [
      "z1 = nn.CMulTable()({x2, x3})"
     ],
     "language": "python",
     "metadata": {},
     "outputs": [],
     "prompt_number": 123
    },
    {
     "cell_type": "code",
     "collapsed": false,
     "input": [
      "z = nn.CAddTable()({x1, z1})"
     ],
     "language": "python",
     "metadata": {},
     "outputs": [],
     "prompt_number": 124
    },
    {
     "cell_type": "code",
     "collapsed": false,
     "input": [
      "mlp = nn.gModule({x1, x2, x3}, {z})"
     ],
     "language": "python",
     "metadata": {},
     "outputs": [],
     "prompt_number": 125
    },
    {
     "cell_type": "code",
     "collapsed": false,
     "input": [
      "inp1 = torch.Tensor(10):fill(1)\n",
      "inp2 = torch.Tensor(10):fill(2)\n",
      "inp3 = torch.Tensor(20):fill(1)"
     ],
     "language": "python",
     "metadata": {},
     "outputs": [],
     "prompt_number": 126
    },
    {
     "cell_type": "code",
     "collapsed": false,
     "input": [
      "mlp:forward({inp1, inp2, inp3})"
     ],
     "language": "python",
     "metadata": {},
     "outputs": [
      {
       "metadata": {},
       "output_type": "pyout",
       "prompt_number": 127,
       "text": [
        " 41\n",
        " 41\n",
        " 41\n",
        " 41\n",
        " 41\n",
        " 41\n",
        " 41\n",
        " 41\n",
        " 41\n",
        " 41\n",
        "[torch.DoubleTensor of size 10]\n",
        "\n"
       ]
      }
     ],
     "prompt_number": 127
    }
   ],
   "metadata": {}
  }
 ]
}