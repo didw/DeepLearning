{
 "cells": [
  {
   "cell_type": "code",
   "execution_count": 64,
   "metadata": {
    "collapsed": false
   },
   "outputs": [
    {
     "data": {
      "text/plain": [
       "+++++++++++++++++++++++++++++++++++++++++++++++++++++++++++++++++++++\t\n",
       "\u001b[1;35mhelp(symbol)\u001b[0m\n",
       "\n",
       "get inline help on a specific symbol\n",
       "\n",
       "to browse the complete html documentation, call: \u001b[1;35mbrowse()\u001b[0m\t\n",
       "+++++++++++++++++++++++++++++++++++++++++++++++++++++++++++++++++++++\t\n",
       "\n"
      ]
     },
     "execution_count": 64,
     "metadata": {},
     "output_type": "execute_result"
    }
   ],
   "source": [
    "?squeeze"
   ]
  },
  {
   "cell_type": "code",
   "execution_count": 52,
   "metadata": {
    "collapsed": false
   },
   "outputs": [
    {
     "data": {
      "text/plain": [
       " 1  2\n",
       " 3  4\n",
       "[torch.DoubleTensor of size 2x2]\n",
       "\n",
       " 1  2\n",
       " 3  4\n",
       "[torch.DoubleTensor of size 2x2]\n",
       "\n"
      ]
     },
     "execution_count": 52,
     "metadata": {},
     "output_type": "execute_result"
    }
   ],
   "source": [
    "data = torch.Tensor({{1,2},{3,4}})\n",
    "print(data)\n",
    "data2 = data:squeeze()\n",
    "print(data2)"
   ]
  },
  {
   "cell_type": "code",
   "execution_count": 70,
   "metadata": {
    "collapsed": false,
    "scrolled": true
   },
   "outputs": [
    {
     "data": {
      "text/plain": [
       "  8\n",
       "  4\n",
       " 20\n",
       " 14\n",
       " 10\n",
       " 18\n",
       "  2\n",
       " 16\n",
       "  6\n",
       " 12\n",
       "[torch.DoubleTensor of size 10]\n",
       "\n"
      ]
     },
     "execution_count": 70,
     "metadata": {},
     "output_type": "execute_result"
    }
   ],
   "source": [
    "local shuffled_indices = torch.randperm(10):long()\n",
    "data = torch.Tensor({1,2,3,4,5,6,7,8,9,10})\n",
    "data = data*2\n",
    "data2 = data:index(1,shuffled_indices)\n",
    "print(data2)"
   ]
  },
  {
   "cell_type": "code",
   "execution_count": 16,
   "metadata": {
    "collapsed": false,
    "scrolled": true
   },
   "outputs": [
    {
     "data": {
      "text/plain": [
       " 0\n",
       " 0\n",
       " 0\n",
       " 0\n",
       " 0\n",
       " 0\n",
       " 0\n",
       " 0\n",
       " 0\n",
       " 0\n",
       "[torch.DoubleTensor of size 10]\n",
       "\n",
       " 0\n",
       " 1\n",
       " 0\n",
       " 0\n",
       " 0\n",
       " 0\n",
       " 0\n",
       " 0\n",
       " 0\n",
       " 0\n",
       "[torch.DoubleTensor of size 10]\n",
       "\n",
       " 0\n",
       " 0\n",
       " 0\n",
       " 0\n",
       " 0\n",
       " 0\n",
       " 0\n",
       " 0\n",
       " 0\n",
       " 0\n",
       "[torch.DoubleTensor of size 10]\n",
       "\n"
      ]
     },
     "execution_count": 16,
     "metadata": {},
     "output_type": "execute_result"
    }
   ],
   "source": [
    "local labelvector = torch.zeros(10)\n",
    "print(labelvector)\n",
    "local label = labelvector\n",
    "labelvector[2] = 1\n",
    "label[2] = 1\n",
    "print(label)\n",
    "label:zero()\n",
    "print(label)"
   ]
  },
  {
   "cell_type": "code",
   "execution_count": null,
   "metadata": {
    "collapsed": true
   },
   "outputs": [],
   "source": []
  }
 ],
 "metadata": {
  "kernelspec": {
   "display_name": "iTorch",
   "language": "lua",
   "name": "itorch"
  },
  "language_info": {
   "name": "lua",
   "version": "20100"
  }
 },
 "nbformat": 4,
 "nbformat_minor": 0
}
