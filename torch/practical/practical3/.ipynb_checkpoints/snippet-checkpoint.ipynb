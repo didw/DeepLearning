{
 "cells": [
  {
   "cell_type": "code",
   "execution_count": 48,
   "metadata": {
    "collapsed": false,
    "scrolled": true
   },
   "outputs": [
    {
     "data": {
      "text/plain": [
       "  6\n",
       "  7\n",
       "  4\n",
       "  1\n",
       " 10\n",
       "  8\n",
       "  5\n",
       "  3\n",
       "  9\n",
       "  2\n",
       "[torch.LongTensor of size 10]\n",
       "\n",
       "  2\n",
       "  4\n",
       "  6\n",
       "  8\n",
       " 10\n",
       " 12\n",
       " 14\n",
       " 16\n",
       " 18\n",
       " 20\n",
       "[torch.DoubleTensor of size 10]\n",
       "\n",
       " 12\n",
       " 14\n",
       "  8\n",
       "  2\n",
       " 20\n",
       " 16\n",
       " 10\n",
       "  6\n",
       " 18\n",
       "  4\n",
       "[torch.DoubleTensor of size 10]\n",
       "\n",
       " 12\n",
       " 14\n",
       "  8\n",
       "  2\n",
       " 20\n",
       " 16\n",
       " 10\n",
       "  6\n",
       " 18\n",
       "  4\n",
       "[torch.DoubleTensor of size 10]\n",
       "\n"
      ]
     },
     "execution_count": 48,
     "metadata": {},
     "output_type": "execute_result"
    }
   ],
   "source": [
    "local shuffled_indices = torch.randperm(10):long()\n",
    "data = torch.Tensor({1,2,3,4,5,6,7,8,9,10})\n",
    "data = data*2\n",
    "data2 = data:index(1,shuffled_indices)\n",
    "data3 = data2:squeeze()\n",
    "print(data3)"
   ]
  },
  {
   "cell_type": "code",
   "execution_count": 16,
   "metadata": {
    "collapsed": false,
    "scrolled": true
   },
   "outputs": [
    {
     "data": {
      "text/plain": [
       " 0\n",
       " 0\n",
       " 0\n",
       " 0\n",
       " 0\n",
       " 0\n",
       " 0\n",
       " 0\n",
       " 0\n",
       " 0\n",
       "[torch.DoubleTensor of size 10]\n",
       "\n",
       " 0\n",
       " 1\n",
       " 0\n",
       " 0\n",
       " 0\n",
       " 0\n",
       " 0\n",
       " 0\n",
       " 0\n",
       " 0\n",
       "[torch.DoubleTensor of size 10]\n",
       "\n",
       " 0\n",
       " 0\n",
       " 0\n",
       " 0\n",
       " 0\n",
       " 0\n",
       " 0\n",
       " 0\n",
       " 0\n",
       " 0\n",
       "[torch.DoubleTensor of size 10]\n",
       "\n"
      ]
     },
     "execution_count": 16,
     "metadata": {},
     "output_type": "execute_result"
    }
   ],
   "source": [
    "local labelvector = torch.zeros(10)\n",
    "print(labelvector)\n",
    "local label = labelvector\n",
    "labelvector[2] = 1\n",
    "label[2] = 1\n",
    "print(label)\n",
    "label:zero()\n",
    "print(label)"
   ]
  },
  {
   "cell_type": "code",
   "execution_count": null,
   "metadata": {
    "collapsed": true
   },
   "outputs": [],
   "source": []
  }
 ],
 "metadata": {
  "kernelspec": {
   "display_name": "iTorch",
   "language": "lua",
   "name": "itorch"
  },
  "language_info": {
   "name": "lua",
   "version": "20100"
  }
 },
 "nbformat": 4,
 "nbformat_minor": 0
}
