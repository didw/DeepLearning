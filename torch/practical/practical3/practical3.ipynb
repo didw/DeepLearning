{
 "cells": [
  {
   "cell_type": "code",
   "execution_count": 11,
   "metadata": {
    "collapsed": true
   },
   "outputs": [],
   "source": [
    "require 'torch'\n",
    "require 'math'\n",
    "require 'nn'\n",
    "require 'optim'\n",
    "require 'gnuplot'\n",
    "require 'dataset-mnist'\n",
    "require 'image'\n",
    "Plot = require 'itorch.Plot'"
   ]
  },
  {
   "cell_type": "code",
   "execution_count": 42,
   "metadata": {
    "collapsed": false
   },
   "outputs": [],
   "source": [
    "torch.manualSeed(1)    -- fix random seed so program runs the same every time\n",
    "\n",
    "-- TODO: play with these optimizer options for the second handin item, as described in the writeup\n",
    "-- NOTE: see below for optimState, storing optimiser settings\n",
    "opt = {}         -- these options are used throughout\n",
    "opt.optimization = 'sgd'\n",
    "opt.batch_size = 500\n",
    "opt.train_size = 8000  -- set to 0 or 60000 to use all 60000 training data\n",
    "opt.test_size = 0      -- 0 means load all data\n",
    "opt.epochs = 5         -- **approximate** number of passes through the training data (see below for the `iterations` variable, which is calculated from this)\n",
    "\n",
    "-- NOTE: the code below changes the optimization algorithm used, and its settings\n",
    "-- remember, the defaults below are not necessarily good\n",
    "if opt.optimization == 'lbfgs' then\n",
    "  optimState = {\n",
    "    learningRate = 1e-1,\n",
    "    maxIter = 2,\n",
    "    nCorrection = 10\n",
    "  }\n",
    "  optimMethod = optim.lbfgs\n",
    "elseif opt.optimization == 'sgd' then\n",
    "  optimState = {\n",
    "    learningRate = 1e-2,\n",
    "    weightDecay = 0,\n",
    "    momentum = 0,\n",
    "    learningRateDecay = 1e-7\n",
    "  }\n",
    "  optimMethod = optim.sgd\n",
    "elseif opt.optimization == 'adagrad' then\n",
    "  optimState = {\n",
    "    learningRate = 1e-1,\n",
    "  }\n",
    "  optimMethod = optim.adagrad\n",
    "else\n",
    "  error('Unknown optimizer')\n",
    "end\n",
    "\n",
    "mnist.download()       -- download dataset if not already there\n"
   ]
  },
  {
   "cell_type": "code",
   "execution_count": 43,
   "metadata": {
    "collapsed": true
   },
   "outputs": [],
   "source": [
    "\n",
    "-- load dataset using dataset-mnist.lua into tensors (first dim of data/labels ranges over data)\n",
    "function load_dataset(train_or_test, count)\n",
    "    -- load\n",
    "    local data\n",
    "    if train_or_test == 'train' then\n",
    "        data = mnist.loadTrainSet(count, {32, 32})\n",
    "    else\n",
    "        data = mnist.loadTestSet(count, {32, 32})\n",
    "    end\n",
    "\n",
    "    -- shuffle the dataset\n",
    "    local shuffled_indices = torch.randperm(data.data:size(1)):long()\n",
    "    -- creates a shuffled *copy*, with a new storage\n",
    "    data.data = data.data:index(1, shuffled_indices):squeeze()\n",
    "    data.labels = data.labels:index(1, shuffled_indices):squeeze()\n",
    "\n",
    "    -- TODO: (optional) UNCOMMENT to display a training example\n",
    "    -- for more, see torch gnuplot package documentation:\n",
    "    -- https://github.com/torch/gnuplot#plotting-package-manual-with-gnuplot\n",
    "    --gnuplot.imagesc(data.data[10])\n",
    "    itorch.image(data.data[10])\n",
    "\n",
    "    -- vectorize each 2D data point into 1D\n",
    "    data.data = data.data:reshape(data.data:size(1), 32*32)\n",
    "\n",
    "    print('--------------------------------')\n",
    "    print(' loaded dataset \"' .. train_or_test .. '\"')\n",
    "    print('inputs', data.data:size())\n",
    "    print('targets', data.labels:size())\n",
    "    print('--------------------------------')\n",
    "\n",
    "    return data\n",
    "end\n"
   ]
  },
  {
   "cell_type": "code",
   "execution_count": 44,
   "metadata": {
    "collapsed": false,
    "scrolled": true
   },
   "outputs": [
    {
     "data": {
      "text/plain": [
       "<mnist> loading only 8000 examples\t\n",
       "<mnist> done\t\n"
      ]
     },
     "execution_count": 44,
     "metadata": {},
     "output_type": "execute_result"
    },
    {
     "data": {
      "image/png": "[encoded data removed]",
      "text/plain": [
       "Console does not support images"
      ]
     },
     "metadata": {
      "image/png": {
       "height": 32,
       "width": 32
      }
     },
     "output_type": "display_data"
    },
    {
     "data": {
      "text/plain": [
       "--------------------------------\t\n",
       " loaded dataset \"train\"\t\n",
       "inputs\t 8000\n",
       " 1024\n",
       "[torch.LongStorage of size 2]\n",
       "\n",
       "targets\t 8000\n",
       "[torch.LongStorage of size 1]\n",
       "\n",
       "--------------------------------\t\n"
      ]
     },
     "execution_count": 44,
     "metadata": {},
     "output_type": "execute_result"
    }
   ],
   "source": [
    "train = load_dataset('train', opt.train_size)"
   ]
  },
  {
   "cell_type": "code",
   "execution_count": 45,
   "metadata": {
    "collapsed": false
   },
   "outputs": [
    {
     "data": {
      "text/plain": [
       "<mnist> done\t\n"
      ]
     },
     "execution_count": 45,
     "metadata": {},
     "output_type": "execute_result"
    },
    {
     "data": {
      "image/png": "[encoded data removed]",
      "text/plain": [
       "Console does not support images"
      ]
     },
     "metadata": {
      "image/png": {
       "height": 32,
       "width": 32
      }
     },
     "output_type": "display_data"
    }
   ],
   "source": [
    "test = load_dataset('test', opt.test_size)"
   ]
  },
  {
   "cell_type": "code",
   "execution_count": 46,
   "metadata": {
    "collapsed": false
   },
   "outputs": [
    {
     "data": {
      "text/plain": [
       "10\t\n",
       "1\t\n"
      ]
     },
     "execution_count": 46,
     "metadata": {},
     "output_type": "execute_result"
    }
   ],
   "source": [
    "------------------------------------------------------------------------------\n",
    "-- MODEL\n",
    "------------------------------------------------------------------------------\n",
    "\n",
    "n_train_data = train.data:size(1) -- number of training data\n",
    "n_inputs = train.data:size(2)     -- number of cols = number of dims of input\n",
    "n_outputs = train.labels:max()    -- highest label = # of classes\n",
    "\n",
    "print(train.labels:max())\n",
    "print(train.labels:min())\n",
    "\n",
    "lin_layer = nn.Linear(n_inputs, n_outputs)\n",
    "softmax = nn.LogSoftMax() \n",
    "model = nn.Sequential()\n",
    "model:add(lin_layer)\n",
    "model:add(softmax)"
   ]
  },
  {
   "cell_type": "code",
   "execution_count": 47,
   "metadata": {
    "collapsed": true
   },
   "outputs": [],
   "source": [
    "------------------------------------------------------------------------------\n",
    "-- LOSS FUNCTION\n",
    "------------------------------------------------------------------------------\n",
    "criterion = nn.ClassNLLCriterion()\n",
    "\n",
    "------------------------------------------------------------------------------\n",
    "-- TRAINING\n",
    "------------------------------------------------------------------------------\n",
    "parameters, gradParameters = model:getParameters()"
   ]
  },
  {
   "cell_type": "code",
   "execution_count": 48,
   "metadata": {
    "collapsed": true
   },
   "outputs": [],
   "source": [
    "------------------------------------------------------------------------\n",
    "-- Define closure with mini-batches \n",
    "------------------------------------------------------------------------\n",
    "\n",
    "counter = 0\n",
    "feval = function(x)\n",
    "  if x ~= parameters then\n",
    "    parameters:copy(x)\n",
    "  end\n",
    "\n",
    "  -- get start/end indices for our minibatch (in this code we'll call a minibatch a \"batch\")\n",
    "  --           ------- \n",
    "  --          |  ...  |\n",
    "  --        ^ ---------<- start index = i * batchsize + 1\n",
    "  --  batch | |       |\n",
    "  --   size | | batch |       \n",
    "  --        v |   i   |<- end index (inclusive) = start index + batchsize\n",
    "  --          ---------                         = (i + 1) * batchsize + 1\n",
    "  --          |  ...  |                 (except possibly for the last minibatch, we can't \n",
    "  --          --------                   let that one go past the end of the data, so we take a min())\n",
    "  local start_index = counter * opt.batch_size + 1\n",
    "  local end_index = math.min(n_train_data, (counter + 1) * opt.batch_size + 1)\n",
    "  if end_index == n_train_data then\n",
    "    counter = 0\n",
    "  else\n",
    "    counter = counter + 1\n",
    "  end\n",
    "\n",
    "  local batch_inputs = train.data[{{start_index, end_index}, {}}]\n",
    "  local batch_targets = train.labels[{{start_index, end_index}}]\n",
    "  gradParameters:zero()\n",
    "\n",
    "  -- In order, these lines compute:\n",
    "  -- 1. compute outputs (log probabilities) for each data point\n",
    "  local batch_outputs = model:forward(batch_inputs)\n",
    "  -- 2. compute the loss of these outputs, measured against the true labels in batch_target\n",
    "  local batch_loss = criterion:forward(batch_outputs, batch_targets)\n",
    "  -- 3. compute the derivative of the loss wrt the outputs of the model\n",
    "  local dloss_doutput = criterion:backward(batch_outputs, batch_targets) \n",
    "  -- 4. use gradients to update weights, we'll understand this step more next week\n",
    "  model:backward(batch_inputs, dloss_doutput)\n",
    "\n",
    "  -- optim expects us to return\n",
    "  --     loss, (gradient of loss with respect to the weights that we're optimizing)\n",
    "  return batch_loss, gradParameters\n",
    "end"
   ]
  },
  {
   "cell_type": "code",
   "execution_count": 49,
   "metadata": {
    "collapsed": false
   },
   "outputs": [
    {
     "data": {
      "text/plain": [
       "minibatches processed:     10, loss = 1174.075324\t\n"
      ]
     },
     "execution_count": 49,
     "metadata": {},
     "output_type": "execute_result"
    },
    {
     "data": {
      "text/plain": [
       "test loss:     10, loss = 809.252037\t\n"
      ]
     },
     "execution_count": 49,
     "metadata": {},
     "output_type": "execute_result"
    },
    {
     "data": {
      "text/plain": [
       "minibatches processed:     20, loss = 147.785084\t\n"
      ]
     },
     "execution_count": 49,
     "metadata": {},
     "output_type": "execute_result"
    },
    {
     "data": {
      "text/plain": [
       "test loss:     20, loss = 145.275088\t\n"
      ]
     },
     "execution_count": 49,
     "metadata": {},
     "output_type": "execute_result"
    },
    {
     "data": {
      "text/plain": [
       "minibatches processed:     30, loss = 80.361152\t\n"
      ]
     },
     "execution_count": 49,
     "metadata": {},
     "output_type": "execute_result"
    },
    {
     "data": {
      "text/plain": [
       "test loss:     30, loss = 96.923427\t\n"
      ]
     },
     "execution_count": 49,
     "metadata": {},
     "output_type": "execute_result"
    },
    {
     "data": {
      "text/plain": [
       "minibatches processed:     40, loss = 89.890483\t\n"
      ]
     },
     "execution_count": 49,
     "metadata": {},
     "output_type": "execute_result"
    },
    {
     "data": {
      "text/plain": [
       "test loss:     40, loss = 95.861881\t\n"
      ]
     },
     "execution_count": 49,
     "metadata": {},
     "output_type": "execute_result"
    },
    {
     "data": {
      "text/plain": [
       "minibatches processed:     50, loss = 88.295563\t\n"
      ]
     },
     "execution_count": 49,
     "metadata": {},
     "output_type": "execute_result"
    },
    {
     "data": {
      "text/plain": [
       "test loss:     50, loss = 123.325812\t\n"
      ]
     },
     "execution_count": 49,
     "metadata": {},
     "output_type": "execute_result"
    },
    {
     "data": {
      "text/plain": [
       "minibatches processed:     60, loss = 87.186078\t\n"
      ]
     },
     "execution_count": 49,
     "metadata": {},
     "output_type": "execute_result"
    },
    {
     "data": {
      "text/plain": [
       "test loss:     60, loss = 79.543564\t\n"
      ]
     },
     "execution_count": 49,
     "metadata": {},
     "output_type": "execute_result"
    },
    {
     "data": {
      "text/plain": [
       "minibatches processed:     70, loss = 73.794701\t\n"
      ]
     },
     "execution_count": 49,
     "metadata": {},
     "output_type": "execute_result"
    },
    {
     "data": {
      "text/plain": [
       "test loss:     70, loss = 91.098378\t\n"
      ]
     },
     "execution_count": 49,
     "metadata": {},
     "output_type": "execute_result"
    },
    {
     "data": {
      "text/plain": [
       "minibatches processed:     80, loss = 43.997389\t\n"
      ]
     },
     "execution_count": 49,
     "metadata": {},
     "output_type": "execute_result"
    },
    {
     "data": {
      "text/plain": [
       "test loss:     80, loss = 79.178325\t\n"
      ]
     },
     "execution_count": 49,
     "metadata": {},
     "output_type": "execute_result"
    }
   ],
   "source": [
    "------------------------------------------------------------------------\n",
    "-- OPTIMIZE: FIRST HANDIN ITEM\n",
    "------------------------------------------------------------------------\n",
    "losses = {}          -- training losses for each iteration/minibatch\n",
    "losses_test = {}    -- test losses\n",
    "epochs = opt.epochs  -- number of full passes over all the training data\n",
    "iterations = epochs * math.ceil(n_train_data / opt.batch_size) -- integer number of minibatches to process\n",
    "-- (note: number of training data might not be divisible by the batch size, so we round up)\n",
    "\n",
    "-- In each iteration, we:\n",
    "--    1. call the optimization routine, which\n",
    "--      a. calls feval(parameters), which\n",
    "--          i. grabs the next minibatch\n",
    "--         ii. returns the loss value and the gradient of the loss wrt the parameters, evaluated on the minibatch\n",
    "--      b. the optimization routine uses this gradient to adjust the parameters so as to reduce the loss.\n",
    "--    3. then we append the loss to a table (list) and print it\n",
    "for i = 1, iterations do\n",
    "  -- optimMethod is a variable storing a function, either optim.sgd or optim.adagrad or ...\n",
    "  -- see documentation for more information on what these functions do and return:\n",
    "  --   https://github.com/torch/optim\n",
    "  -- it returns (new_parameters, table), where table[0] is the value of the function being optimized\n",
    "  -- and we can ignore new_parameters because `parameters` is updated in-place every time we call \n",
    "  -- the optim module's function. It uses optimState to hide away its bookkeeping that it needs to do\n",
    "  -- between iterations.\n",
    "  local _, minibatch_loss = optimMethod(feval, parameters, optimState)\n",
    "\n",
    "  -- Our loss function is cross-entropy, divided by the number of data points,\n",
    "  -- therefore the units (units in the physics sense) of the loss is \"loss per data sample\".\n",
    "  -- Since we evaluate the loss on a different minibatch each time, the loss will sometimes \n",
    "  -- fluctuate upwards slightly (i.e. the loss estimate is noisy).\n",
    "  if i % 10 == 0 then -- don't print *every* iteration, this is enough to get the gist\n",
    "      print(string.format(\"minibatches processed: %6s, loss = %6.6f\", i, minibatch_loss[1]))\n",
    "      losses[#losses + 1] = minibatch_loss[1] -- append the new loss\n",
    "  end\n",
    "  -- TIP: use this same idea of not saving the test loss in every iteration if you want to increase speed.\n",
    "  -- Then you can get, 10 (for example) times fewer values than the training loss. If you do this,\n",
    "  -- you just have to be careful to give the correct x-values to the plotting function, rather than\n",
    "  -- Tensor{1,2,...,#losses}. HINT: look up the torch.linspace function, and note that torch.range(1, #losses)\n",
    "  -- is the same as torch.linspace(1, #losses, #losses).\n",
    "  if i % 10 == 0 then -- don't print *every* iteration, this is enough to get the gist\n",
    "      -- 1. compute outputs (log probabilities) for each data point\n",
    "      local test_outputs = model:forward(test.data)\n",
    "      -- 2. compute the loss of these outputs, measured against the true labels in batch_target\n",
    "      local test_loss = criterion:forward(test_outputs, test.labels)\n",
    "      print(string.format(\"test loss: %6s, loss = %6.6f\", i, test_loss))\n",
    "      losses_test[#losses_test + 1] = test_loss\n",
    "  end\n",
    "end"
   ]
  },
  {
   "cell_type": "code",
   "execution_count": 50,
   "metadata": {
    "collapsed": false,
    "scrolled": false
   },
   "outputs": [
    {
     "data": {
      "text/html": [
       "<script type=\"text/javascript\">\n",
       "$(function() {\n",
       "    if (typeof (window._bokeh_onload_callbacks) === \"undefined\"){\n",
       "  window._bokeh_onload_callbacks = [];\n",
       "    }\n",
       "    function load_lib(url, callback){\n",
       "  window._bokeh_onload_callbacks.push(callback);\n",
       "  if (window._bokeh_is_loading){\n",
       "      console.log(\"Bokeh: BokehJS is being loaded, scheduling callback at\", new Date());\n",
       "      return null;\n",
       "  }\n",
       "  console.log(\"Bokeh: BokehJS not loaded, scheduling load and callback at\", new Date());\n",
       "  window._bokeh_is_loading = true;\n",
       "  var s = document.createElement('script');\n",
       "  s.src = url;\n",
       "  s.async = true;\n",
       "  s.onreadystatechange = s.onload = function(){\n",
       "      Bokeh.embed.inject_css(\"http://cdn.pydata.org/bokeh-0.7.0.min.css\");\n",
       "      window._bokeh_onload_callbacks.forEach(function(callback){callback()});\n",
       "  };\n",
       "  s.onerror = function(){\n",
       "      console.warn(\"failed to load library \" + url);\n",
       "  };\n",
       "  document.getElementsByTagName(\"head\")[0].appendChild(s);\n",
       "    }\n",
       "\n",
       "    bokehjs_url = \"http://cdn.pydata.org/bokeh-0.7.0.min.js\"\n",
       "\n",
       "    var elt = document.getElementById(\"5122d3b7-c55a-4998-c967-ccac7ab728ae\");\n",
       "    if(elt==null) {\n",
       "  console.log(\"Bokeh: ERROR: autoload.js configured with elementid '5122d3b7-c55a-4998-c967-ccac7ab728ae'\"\n",
       "        + \"but no matching script tag was found. \")\n",
       "  return false;\n",
       "    }\n",
       "\n",
       "    if(typeof(Bokeh) !== \"undefined\") {\n",
       "  console.log(\"Bokeh: BokehJS loaded, going straight to plotting\");\n",
       "  var modelid = \"6145a1cc-cf02-404f-c06e-2222525c60e9\";\n",
       "  var modeltype = \"Plot\";\n",
       "  var all_models = [{\"id\":\"24bdd9a0-f4e7-48c3-c86c-17eb692b323d\",\"type\":\"ColumnDataSource\",\"attributes\":{\"data\":{\"y\":[1174.0753243267,147.78508411536,80.361152223522,89.890483229838,88.295562528146,87.186077846396,73.794701070291,43.997388929959],\"x\":[1,2,3,4,5,6,7,8]},\"column_names\":[\"y\",\"x\"],\"cont_ranges\":{},\"discrete_ranges\":{},\"selected\":[],\"id\":\"24bdd9a0-f4e7-48c3-c86c-17eb692b323d\",\"doc\":null,\"tags\":[]}},{\"id\":\"47e64d60-60e4-4971-c937-04236c0bafe9\",\"type\":\"Line\",\"attributes\":{\"fill_alpha\":{\"units\":\"data\",\"value\":0.2},\"line_alpha\":{\"units\":\"data\",\"value\":1},\"doc\":null,\"size\":{\"units\":\"screen\",\"value\":10},\"fill_color\":{\"value\":\"red\"},\"line_color\":{\"value\":\"red\"},\"x\":{\"units\":\"data\",\"field\":\"x\"},\"id\":\"47e64d60-60e4-4971-c937-04236c0bafe9\",\"y\":{\"units\":\"data\",\"field\":\"y\"},\"tags\":[]}},{\"id\":\"5953ae0c-56da-4fe1-cf87-b9d1fdc0d506\",\"type\":\"Line\",\"attributes\":{\"fill_alpha\":{\"units\":\"data\",\"value\":0.2},\"line_alpha\":{\"units\":\"data\",\"value\":1},\"doc\":null,\"size\":{\"units\":\"screen\",\"value\":10},\"fill_color\":{\"value\":\"red\"},\"line_color\":{\"value\":\"red\"},\"x\":{\"units\":\"data\",\"field\":\"x\"},\"id\":\"5953ae0c-56da-4fe1-cf87-b9d1fdc0d506\",\"y\":{\"units\":\"data\",\"field\":\"y\"},\"tags\":[]}},{\"id\":\"906289ce-4056-4348-c362-aa79990e2c97\",\"type\":\"GlyphRenderer\",\"attributes\":{\"name\":null,\"nonselection_glyph\":{\"type\":\"Line\",\"id\":\"5953ae0c-56da-4fe1-cf87-b9d1fdc0d506\"},\"doc\":null,\"server_data_source\":null,\"data_source\":{\"type\":\"ColumnDataSource\",\"id\":\"24bdd9a0-f4e7-48c3-c86c-17eb692b323d\"},\"glyph\":{\"type\":\"Line\",\"id\":\"47e64d60-60e4-4971-c937-04236c0bafe9\"},\"selection_glyph\":null,\"id\":\"906289ce-4056-4348-c362-aa79990e2c97\",\"tags\":[]}},{\"id\":\"9c5dbf2f-183e-4c2b-cc5e-2c52e4e377bd\",\"type\":\"ColumnDataSource\",\"attributes\":{\"data\":{\"y\":[809.25203651659,145.27508761682,96.923426781279,95.861880539767,123.3258120358,79.543564100612,91.098377598753,79.178325426457],\"x\":[1,2,3,4,5,6,7,8]},\"column_names\":[\"y\",\"x\"],\"cont_ranges\":{},\"discrete_ranges\":{},\"selected\":[],\"id\":\"9c5dbf2f-183e-4c2b-cc5e-2c52e4e377bd\",\"doc\":null,\"tags\":[]}},{\"id\":\"7a25cd1c-1bb5-4bf7-cb74-097acce1b0ae\",\"type\":\"Line\",\"attributes\":{\"fill_alpha\":{\"units\":\"data\",\"value\":0.2},\"line_alpha\":{\"units\":\"data\",\"value\":1},\"doc\":null,\"size\":{\"units\":\"screen\",\"value\":10},\"fill_color\":{\"value\":\"blue\"},\"line_color\":{\"value\":\"blue\"},\"x\":{\"units\":\"data\",\"field\":\"x\"},\"id\":\"7a25cd1c-1bb5-4bf7-cb74-097acce1b0ae\",\"y\":{\"units\":\"data\",\"field\":\"y\"},\"tags\":[]}},{\"id\":\"ed06f33a-b049-4053-c0bf-920c0356ca5b\",\"type\":\"Line\",\"attributes\":{\"fill_alpha\":{\"units\":\"data\",\"value\":0.2},\"line_alpha\":{\"units\":\"data\",\"value\":1},\"doc\":null,\"size\":{\"units\":\"screen\",\"value\":10},\"fill_color\":{\"value\":\"blue\"},\"line_color\":{\"value\":\"blue\"},\"x\":{\"units\":\"data\",\"field\":\"x\"},\"id\":\"ed06f33a-b049-4053-c0bf-920c0356ca5b\",\"y\":{\"units\":\"data\",\"field\":\"y\"},\"tags\":[]}},{\"id\":\"3dd562a7-97b6-46fe-c67a-e4eea37c4eaf\",\"type\":\"GlyphRenderer\",\"attributes\":{\"name\":null,\"nonselection_glyph\":{\"type\":\"Line\",\"id\":\"ed06f33a-b049-4053-c0bf-920c0356ca5b\"},\"doc\":null,\"server_data_source\":null,\"data_source\":{\"type\":\"ColumnDataSource\",\"id\":\"9c5dbf2f-183e-4c2b-cc5e-2c52e4e377bd\"},\"glyph\":{\"type\":\"Line\",\"id\":\"7a25cd1c-1bb5-4bf7-cb74-097acce1b0ae\"},\"selection_glyph\":null,\"id\":\"3dd562a7-97b6-46fe-c67a-e4eea37c4eaf\",\"tags\":[]}},{\"id\":\"15cb9663-f9cb-4567-c54c-8cccfec22684\",\"type\":\"DataRange1d\",\"attributes\":{\"sources\":[{\"columns\":[\"x\"],\"source\":{\"type\":\"ColumnDataSource\",\"id\":\"24bdd9a0-f4e7-48c3-c86c-17eb692b323d\"}},{\"columns\":[\"x\"],\"source\":{\"type\":\"ColumnDataSource\",\"id\":\"9c5dbf2f-183e-4c2b-cc5e-2c52e4e377bd\"}}],\"id\":\"15cb9663-f9cb-4567-c54c-8cccfec22684\",\"tags\":[],\"doc\":null}},{\"id\":\"428771bb-b7c6-4d5e-cd2e-165ac35ab2e1\",\"type\":\"DataRange1d\",\"attributes\":{\"sources\":[{\"columns\":[\"y\"],\"source\":{\"type\":\"ColumnDataSource\",\"id\":\"24bdd9a0-f4e7-48c3-c86c-17eb692b323d\"}},{\"columns\":[\"y\"],\"source\":{\"type\":\"ColumnDataSource\",\"id\":\"9c5dbf2f-183e-4c2b-cc5e-2c52e4e377bd\"}}],\"id\":\"428771bb-b7c6-4d5e-cd2e-165ac35ab2e1\",\"tags\":[],\"doc\":null}},{\"id\":\"9a4a0b2e-ad32-4045-c035-adaf483fd39f\",\"type\":\"ToolEvents\",\"attributes\":{\"tags\":[],\"id\":\"9a4a0b2e-ad32-4045-c035-adaf483fd39f\",\"geometries\":[],\"doc\":null}},{\"id\":\"83532b9e-99ca-4951-c94d-8c23bae9a6da\",\"type\":\"BasicTickFormatter\",\"attributes\":{\"id\":\"83532b9e-99ca-4951-c94d-8c23bae9a6da\",\"tags\":[],\"doc\":null}},{\"id\":\"a1489864-91f0-41f8-c195-65d4e017de0c\",\"type\":\"BasicTicker\",\"attributes\":{\"num_minor_ticks\":5,\"id\":\"a1489864-91f0-41f8-c195-65d4e017de0c\",\"tags\":[],\"doc\":null}},{\"id\":\"ea7453d7-5c05-4e89-cec3-72ac5fd3116d\",\"type\":\"LinearAxis\",\"attributes\":{\"formatter\":{\"type\":\"BasicTickFormatter\",\"id\":\"83532b9e-99ca-4951-c94d-8c23bae9a6da\"},\"ticker\":{\"type\":\"BasicTicker\",\"id\":\"a1489864-91f0-41f8-c195-65d4e017de0c\"},\"plot\":{\"id\":\"6145a1cc-cf02-404f-c06e-2222525c60e9\",\"type\":\"Plot\",\"subtype\":\"Figure\"},\"axis_label\":\"Iteration\",\"id\":\"ea7453d7-5c05-4e89-cec3-72ac5fd3116d\",\"doc\":null,\"tags\":[]}},{\"id\":\"cffa73c3-59c8-4fb5-cfc0-3335f4b36ab6\",\"type\":\"Grid\",\"attributes\":{\"dimension\":0,\"plot\":{\"id\":\"6145a1cc-cf02-404f-c06e-2222525c60e9\",\"type\":\"Plot\",\"subtype\":\"Figure\"},\"ticker\":{\"type\":\"BasicTicker\",\"id\":\"a1489864-91f0-41f8-c195-65d4e017de0c\"},\"id\":\"cffa73c3-59c8-4fb5-cfc0-3335f4b36ab6\",\"doc\":null,\"tags\":[]}},{\"id\":\"c1b2b926-4da9-4f4d-cfe3-87d729f1b58e\",\"type\":\"BasicTickFormatter\",\"attributes\":{\"id\":\"c1b2b926-4da9-4f4d-cfe3-87d729f1b58e\",\"tags\":[],\"doc\":null}},{\"id\":\"16d83f8d-39f0-4a97-ca67-231560a0e5a5\",\"type\":\"BasicTicker\",\"attributes\":{\"num_minor_ticks\":5,\"id\":\"16d83f8d-39f0-4a97-ca67-231560a0e5a5\",\"tags\":[],\"doc\":null}},{\"id\":\"e7321643-1bd0-447e-c4e0-586a9bb74bf3\",\"type\":\"LinearAxis\",\"attributes\":{\"formatter\":{\"type\":\"BasicTickFormatter\",\"id\":\"c1b2b926-4da9-4f4d-cfe3-87d729f1b58e\"},\"ticker\":{\"type\":\"BasicTicker\",\"id\":\"16d83f8d-39f0-4a97-ca67-231560a0e5a5\"},\"plot\":{\"id\":\"6145a1cc-cf02-404f-c06e-2222525c60e9\",\"type\":\"Plot\",\"subtype\":\"Figure\"},\"axis_label\":null,\"id\":\"e7321643-1bd0-447e-c4e0-586a9bb74bf3\",\"doc\":null,\"tags\":[]}},{\"id\":\"f9e10c8b-10fe-4f75-cf7f-5c44aae5acbd\",\"type\":\"Grid\",\"attributes\":{\"dimension\":1,\"plot\":{\"id\":\"6145a1cc-cf02-404f-c06e-2222525c60e9\",\"type\":\"Plot\",\"subtype\":\"Figure\"},\"ticker\":{\"type\":\"BasicTicker\",\"id\":\"16d83f8d-39f0-4a97-ca67-231560a0e5a5\"},\"id\":\"f9e10c8b-10fe-4f75-cf7f-5c44aae5acbd\",\"doc\":null,\"tags\":[]}},{\"id\":\"6f714043-d69c-4664-c67d-dea4c07143a1\",\"type\":\"PanTool\",\"attributes\":{\"plot\":{\"id\":\"6145a1cc-cf02-404f-c06e-2222525c60e9\",\"type\":\"Plot\",\"subtype\":\"Figure\"},\"dimensions\":[\"width\",\"height\"],\"id\":\"6f714043-d69c-4664-c67d-dea4c07143a1\",\"doc\":null,\"tags\":[]}},{\"id\":\"c9e0396b-3ade-408a-c024-effbb726f345\",\"type\":\"WheelZoomTool\",\"attributes\":{\"plot\":{\"id\":\"6145a1cc-cf02-404f-c06e-2222525c60e9\",\"type\":\"Plot\",\"subtype\":\"Figure\"},\"dimensions\":[\"width\",\"height\"],\"id\":\"c9e0396b-3ade-408a-c024-effbb726f345\",\"doc\":null,\"tags\":[]}},{\"id\":\"3318c10a-9895-43f7-c305-e32a5244474d\",\"type\":\"BoxZoomTool\",\"attributes\":{\"plot\":{\"id\":\"6145a1cc-cf02-404f-c06e-2222525c60e9\",\"type\":\"Plot\",\"subtype\":\"Figure\"},\"id\":\"3318c10a-9895-43f7-c305-e32a5244474d\",\"tags\":[],\"doc\":null}},{\"id\":\"3e3ee461-82c6-4079-c0a0-5da8a759ad38\",\"type\":\"PreviewSaveTool\",\"attributes\":{\"plot\":{\"id\":\"6145a1cc-cf02-404f-c06e-2222525c60e9\",\"type\":\"Plot\",\"subtype\":\"Figure\"},\"id\":\"3e3ee461-82c6-4079-c0a0-5da8a759ad38\",\"tags\":[],\"doc\":null}},{\"id\":\"a47ce4d8-c7f9-4813-c846-09301e8a8224\",\"type\":\"ResizeTool\",\"attributes\":{\"plot\":{\"id\":\"6145a1cc-cf02-404f-c06e-2222525c60e9\",\"type\":\"Plot\",\"subtype\":\"Figure\"},\"id\":\"a47ce4d8-c7f9-4813-c846-09301e8a8224\",\"tags\":[],\"doc\":null}},{\"id\":\"29529925-cc05-402b-c0a4-5404e6c5b8fc\",\"type\":\"ResetTool\",\"attributes\":{\"plot\":{\"id\":\"6145a1cc-cf02-404f-c06e-2222525c60e9\",\"type\":\"Plot\",\"subtype\":\"Figure\"},\"id\":\"29529925-cc05-402b-c0a4-5404e6c5b8fc\",\"tags\":[],\"doc\":null}},{\"id\":\"99068f15-52eb-40c6-c0bd-6fae7b9d4641\",\"type\":\"Legend\",\"attributes\":{\"plot\":{\"id\":\"6145a1cc-cf02-404f-c06e-2222525c60e9\",\"type\":\"Plot\",\"subtype\":\"Figure\"},\"legends\":[[\"Training Loss\",[{\"type\":\"GlyphRenderer\",\"id\":\"906289ce-4056-4348-c362-aa79990e2c97\"}]],[\"Test Loss\",[{\"type\":\"GlyphRenderer\",\"id\":\"3dd562a7-97b6-46fe-c67a-e4eea37c4eaf\"}]]],\"id\":\"99068f15-52eb-40c6-c0bd-6fae7b9d4641\",\"doc\":null,\"tags\":[]}},{\"id\":\"6145a1cc-cf02-404f-c06e-2222525c60e9\",\"type\":\"Plot\",\"attributes\":{\"x_range\":{\"type\":\"DataRange1d\",\"id\":\"15cb9663-f9cb-4567-c54c-8cccfec22684\"},\"tool_events\":{\"type\":\"ToolEvents\",\"id\":\"9a4a0b2e-ad32-4045-c035-adaf483fd39f\"},\"below\":[{\"type\":\"LinearAxis\",\"id\":\"ea7453d7-5c05-4e89-cec3-72ac5fd3116d\"}],\"renderers\":[{\"type\":\"GlyphRenderer\",\"id\":\"906289ce-4056-4348-c362-aa79990e2c97\"},{\"type\":\"GlyphRenderer\",\"id\":\"3dd562a7-97b6-46fe-c67a-e4eea37c4eaf\"},{\"type\":\"LinearAxis\",\"id\":\"ea7453d7-5c05-4e89-cec3-72ac5fd3116d\"},{\"type\":\"Grid\",\"id\":\"cffa73c3-59c8-4fb5-cfc0-3335f4b36ab6\"},{\"type\":\"LinearAxis\",\"id\":\"e7321643-1bd0-447e-c4e0-586a9bb74bf3\"},{\"type\":\"Grid\",\"id\":\"f9e10c8b-10fe-4f75-cf7f-5c44aae5acbd\"},{\"type\":\"Legend\",\"id\":\"99068f15-52eb-40c6-c0bd-6fae7b9d4641\"}],\"above\":[],\"tools\":[{\"type\":\"PanTool\",\"id\":\"6f714043-d69c-4664-c67d-dea4c07143a1\"},{\"type\":\"WheelZoomTool\",\"id\":\"c9e0396b-3ade-408a-c024-effbb726f345\"},{\"type\":\"BoxZoomTool\",\"id\":\"3318c10a-9895-43f7-c305-e32a5244474d\"},{\"type\":\"PreviewSaveTool\",\"id\":\"3e3ee461-82c6-4079-c0a0-5da8a759ad38\"},{\"type\":\"ResizeTool\",\"id\":\"a47ce4d8-c7f9-4813-c846-09301e8a8224\"},{\"type\":\"ResetTool\",\"id\":\"29529925-cc05-402b-c0a4-5404e6c5b8fc\"}],\"doc\":null,\"right\":[],\"title\":\"Loss wrt iteration\",\"extra_x_ranges\":{},\"left\":[{\"type\":\"LinearAxis\",\"id\":\"e7321643-1bd0-447e-c4e0-586a9bb74bf3\"}],\"y_range\":{\"type\":\"DataRange1d\",\"id\":\"428771bb-b7c6-4d5e-cd2e-165ac35ab2e1\"},\"id\":\"6145a1cc-cf02-404f-c06e-2222525c60e9\",\"extra_y_ranges\":{},\"tags\":[]}}];\n",
       "  Bokeh.load_models(all_models);\n",
       "  var model = Bokeh.Collections(modeltype).get(modelid);\n",
       "  $(\"#5122d3b7-c55a-4998-c967-ccac7ab728ae\").html(''); // clear any previous plot in window_id\n",
       "  var view = new model.default_view({model: model, el: \"#5122d3b7-c55a-4998-c967-ccac7ab728ae\"});\n",
       "    } else {\n",
       "  load_lib(bokehjs_url, function() {\n",
       "      console.log(\"Bokeh: BokehJS plotting callback run at\", new Date())\n",
       "      var modelid = \"6145a1cc-cf02-404f-c06e-2222525c60e9\";\n",
       "      var modeltype = \"Plot\";\n",
       "      var all_models = [{\"id\":\"24bdd9a0-f4e7-48c3-c86c-17eb692b323d\",\"type\":\"ColumnDataSource\",\"attributes\":{\"data\":{\"y\":[1174.0753243267,147.78508411536,80.361152223522,89.890483229838,88.295562528146,87.186077846396,73.794701070291,43.997388929959],\"x\":[1,2,3,4,5,6,7,8]},\"column_names\":[\"y\",\"x\"],\"cont_ranges\":{},\"discrete_ranges\":{},\"selected\":[],\"id\":\"24bdd9a0-f4e7-48c3-c86c-17eb692b323d\",\"doc\":null,\"tags\":[]}},{\"id\":\"47e64d60-60e4-4971-c937-04236c0bafe9\",\"type\":\"Line\",\"attributes\":{\"fill_alpha\":{\"units\":\"data\",\"value\":0.2},\"line_alpha\":{\"units\":\"data\",\"value\":1},\"doc\":null,\"size\":{\"units\":\"screen\",\"value\":10},\"fill_color\":{\"value\":\"red\"},\"line_color\":{\"value\":\"red\"},\"x\":{\"units\":\"data\",\"field\":\"x\"},\"id\":\"47e64d60-60e4-4971-c937-04236c0bafe9\",\"y\":{\"units\":\"data\",\"field\":\"y\"},\"tags\":[]}},{\"id\":\"5953ae0c-56da-4fe1-cf87-b9d1fdc0d506\",\"type\":\"Line\",\"attributes\":{\"fill_alpha\":{\"units\":\"data\",\"value\":0.2},\"line_alpha\":{\"units\":\"data\",\"value\":1},\"doc\":null,\"size\":{\"units\":\"screen\",\"value\":10},\"fill_color\":{\"value\":\"red\"},\"line_color\":{\"value\":\"red\"},\"x\":{\"units\":\"data\",\"field\":\"x\"},\"id\":\"5953ae0c-56da-4fe1-cf87-b9d1fdc0d506\",\"y\":{\"units\":\"data\",\"field\":\"y\"},\"tags\":[]}},{\"id\":\"906289ce-4056-4348-c362-aa79990e2c97\",\"type\":\"GlyphRenderer\",\"attributes\":{\"name\":null,\"nonselection_glyph\":{\"type\":\"Line\",\"id\":\"5953ae0c-56da-4fe1-cf87-b9d1fdc0d506\"},\"doc\":null,\"server_data_source\":null,\"data_source\":{\"type\":\"ColumnDataSource\",\"id\":\"24bdd9a0-f4e7-48c3-c86c-17eb692b323d\"},\"glyph\":{\"type\":\"Line\",\"id\":\"47e64d60-60e4-4971-c937-04236c0bafe9\"},\"selection_glyph\":null,\"id\":\"906289ce-4056-4348-c362-aa79990e2c97\",\"tags\":[]}},{\"id\":\"9c5dbf2f-183e-4c2b-cc5e-2c52e4e377bd\",\"type\":\"ColumnDataSource\",\"attributes\":{\"data\":{\"y\":[809.25203651659,145.27508761682,96.923426781279,95.861880539767,123.3258120358,79.543564100612,91.098377598753,79.178325426457],\"x\":[1,2,3,4,5,6,7,8]},\"column_names\":[\"y\",\"x\"],\"cont_ranges\":{},\"discrete_ranges\":{},\"selected\":[],\"id\":\"9c5dbf2f-183e-4c2b-cc5e-2c52e4e377bd\",\"doc\":null,\"tags\":[]}},{\"id\":\"7a25cd1c-1bb5-4bf7-cb74-097acce1b0ae\",\"type\":\"Line\",\"attributes\":{\"fill_alpha\":{\"units\":\"data\",\"value\":0.2},\"line_alpha\":{\"units\":\"data\",\"value\":1},\"doc\":null,\"size\":{\"units\":\"screen\",\"value\":10},\"fill_color\":{\"value\":\"blue\"},\"line_color\":{\"value\":\"blue\"},\"x\":{\"units\":\"data\",\"field\":\"x\"},\"id\":\"7a25cd1c-1bb5-4bf7-cb74-097acce1b0ae\",\"y\":{\"units\":\"data\",\"field\":\"y\"},\"tags\":[]}},{\"id\":\"ed06f33a-b049-4053-c0bf-920c0356ca5b\",\"type\":\"Line\",\"attributes\":{\"fill_alpha\":{\"units\":\"data\",\"value\":0.2},\"line_alpha\":{\"units\":\"data\",\"value\":1},\"doc\":null,\"size\":{\"units\":\"screen\",\"value\":10},\"fill_color\":{\"value\":\"blue\"},\"line_color\":{\"value\":\"blue\"},\"x\":{\"units\":\"data\",\"field\":\"x\"},\"id\":\"ed06f33a-b049-4053-c0bf-920c0356ca5b\",\"y\":{\"units\":\"data\",\"field\":\"y\"},\"tags\":[]}},{\"id\":\"3dd562a7-97b6-46fe-c67a-e4eea37c4eaf\",\"type\":\"GlyphRenderer\",\"attributes\":{\"name\":null,\"nonselection_glyph\":{\"type\":\"Line\",\"id\":\"ed06f33a-b049-4053-c0bf-920c0356ca5b\"},\"doc\":null,\"server_data_source\":null,\"data_source\":{\"type\":\"ColumnDataSource\",\"id\":\"9c5dbf2f-183e-4c2b-cc5e-2c52e4e377bd\"},\"glyph\":{\"type\":\"Line\",\"id\":\"7a25cd1c-1bb5-4bf7-cb74-097acce1b0ae\"},\"selection_glyph\":null,\"id\":\"3dd562a7-97b6-46fe-c67a-e4eea37c4eaf\",\"tags\":[]}},{\"id\":\"15cb9663-f9cb-4567-c54c-8cccfec22684\",\"type\":\"DataRange1d\",\"attributes\":{\"sources\":[{\"columns\":[\"x\"],\"source\":{\"type\":\"ColumnDataSource\",\"id\":\"24bdd9a0-f4e7-48c3-c86c-17eb692b323d\"}},{\"columns\":[\"x\"],\"source\":{\"type\":\"ColumnDataSource\",\"id\":\"9c5dbf2f-183e-4c2b-cc5e-2c52e4e377bd\"}}],\"id\":\"15cb9663-f9cb-4567-c54c-8cccfec22684\",\"tags\":[],\"doc\":null}},{\"id\":\"428771bb-b7c6-4d5e-cd2e-165ac35ab2e1\",\"type\":\"DataRange1d\",\"attributes\":{\"sources\":[{\"columns\":[\"y\"],\"source\":{\"type\":\"ColumnDataSource\",\"id\":\"24bdd9a0-f4e7-48c3-c86c-17eb692b323d\"}},{\"columns\":[\"y\"],\"source\":{\"type\":\"ColumnDataSource\",\"id\":\"9c5dbf2f-183e-4c2b-cc5e-2c52e4e377bd\"}}],\"id\":\"428771bb-b7c6-4d5e-cd2e-165ac35ab2e1\",\"tags\":[],\"doc\":null}},{\"id\":\"9a4a0b2e-ad32-4045-c035-adaf483fd39f\",\"type\":\"ToolEvents\",\"attributes\":{\"tags\":[],\"id\":\"9a4a0b2e-ad32-4045-c035-adaf483fd39f\",\"geometries\":[],\"doc\":null}},{\"id\":\"83532b9e-99ca-4951-c94d-8c23bae9a6da\",\"type\":\"BasicTickFormatter\",\"attributes\":{\"id\":\"83532b9e-99ca-4951-c94d-8c23bae9a6da\",\"tags\":[],\"doc\":null}},{\"id\":\"a1489864-91f0-41f8-c195-65d4e017de0c\",\"type\":\"BasicTicker\",\"attributes\":{\"num_minor_ticks\":5,\"id\":\"a1489864-91f0-41f8-c195-65d4e017de0c\",\"tags\":[],\"doc\":null}},{\"id\":\"ea7453d7-5c05-4e89-cec3-72ac5fd3116d\",\"type\":\"LinearAxis\",\"attributes\":{\"formatter\":{\"type\":\"BasicTickFormatter\",\"id\":\"83532b9e-99ca-4951-c94d-8c23bae9a6da\"},\"ticker\":{\"type\":\"BasicTicker\",\"id\":\"a1489864-91f0-41f8-c195-65d4e017de0c\"},\"plot\":{\"id\":\"6145a1cc-cf02-404f-c06e-2222525c60e9\",\"type\":\"Plot\",\"subtype\":\"Figure\"},\"axis_label\":\"Iteration\",\"id\":\"ea7453d7-5c05-4e89-cec3-72ac5fd3116d\",\"doc\":null,\"tags\":[]}},{\"id\":\"cffa73c3-59c8-4fb5-cfc0-3335f4b36ab6\",\"type\":\"Grid\",\"attributes\":{\"dimension\":0,\"plot\":{\"id\":\"6145a1cc-cf02-404f-c06e-2222525c60e9\",\"type\":\"Plot\",\"subtype\":\"Figure\"},\"ticker\":{\"type\":\"BasicTicker\",\"id\":\"a1489864-91f0-41f8-c195-65d4e017de0c\"},\"id\":\"cffa73c3-59c8-4fb5-cfc0-3335f4b36ab6\",\"doc\":null,\"tags\":[]}},{\"id\":\"c1b2b926-4da9-4f4d-cfe3-87d729f1b58e\",\"type\":\"BasicTickFormatter\",\"attributes\":{\"id\":\"c1b2b926-4da9-4f4d-cfe3-87d729f1b58e\",\"tags\":[],\"doc\":null}},{\"id\":\"16d83f8d-39f0-4a97-ca67-231560a0e5a5\",\"type\":\"BasicTicker\",\"attributes\":{\"num_minor_ticks\":5,\"id\":\"16d83f8d-39f0-4a97-ca67-231560a0e5a5\",\"tags\":[],\"doc\":null}},{\"id\":\"e7321643-1bd0-447e-c4e0-586a9bb74bf3\",\"type\":\"LinearAxis\",\"attributes\":{\"formatter\":{\"type\":\"BasicTickFormatter\",\"id\":\"c1b2b926-4da9-4f4d-cfe3-87d729f1b58e\"},\"ticker\":{\"type\":\"BasicTicker\",\"id\":\"16d83f8d-39f0-4a97-ca67-231560a0e5a5\"},\"plot\":{\"id\":\"6145a1cc-cf02-404f-c06e-2222525c60e9\",\"type\":\"Plot\",\"subtype\":\"Figure\"},\"axis_label\":null,\"id\":\"e7321643-1bd0-447e-c4e0-586a9bb74bf3\",\"doc\":null,\"tags\":[]}},{\"id\":\"f9e10c8b-10fe-4f75-cf7f-5c44aae5acbd\",\"type\":\"Grid\",\"attributes\":{\"dimension\":1,\"plot\":{\"id\":\"6145a1cc-cf02-404f-c06e-2222525c60e9\",\"type\":\"Plot\",\"subtype\":\"Figure\"},\"ticker\":{\"type\":\"BasicTicker\",\"id\":\"16d83f8d-39f0-4a97-ca67-231560a0e5a5\"},\"id\":\"f9e10c8b-10fe-4f75-cf7f-5c44aae5acbd\",\"doc\":null,\"tags\":[]}},{\"id\":\"6f714043-d69c-4664-c67d-dea4c07143a1\",\"type\":\"PanTool\",\"attributes\":{\"plot\":{\"id\":\"6145a1cc-cf02-404f-c06e-2222525c60e9\",\"type\":\"Plot\",\"subtype\":\"Figure\"},\"dimensions\":[\"width\",\"height\"],\"id\":\"6f714043-d69c-4664-c67d-dea4c07143a1\",\"doc\":null,\"tags\":[]}},{\"id\":\"c9e0396b-3ade-408a-c024-effbb726f345\",\"type\":\"WheelZoomTool\",\"attributes\":{\"plot\":{\"id\":\"6145a1cc-cf02-404f-c06e-2222525c60e9\",\"type\":\"Plot\",\"subtype\":\"Figure\"},\"dimensions\":[\"width\",\"height\"],\"id\":\"c9e0396b-3ade-408a-c024-effbb726f345\",\"doc\":null,\"tags\":[]}},{\"id\":\"3318c10a-9895-43f7-c305-e32a5244474d\",\"type\":\"BoxZoomTool\",\"attributes\":{\"plot\":{\"id\":\"6145a1cc-cf02-404f-c06e-2222525c60e9\",\"type\":\"Plot\",\"subtype\":\"Figure\"},\"id\":\"3318c10a-9895-43f7-c305-e32a5244474d\",\"tags\":[],\"doc\":null}},{\"id\":\"3e3ee461-82c6-4079-c0a0-5da8a759ad38\",\"type\":\"PreviewSaveTool\",\"attributes\":{\"plot\":{\"id\":\"6145a1cc-cf02-404f-c06e-2222525c60e9\",\"type\":\"Plot\",\"subtype\":\"Figure\"},\"id\":\"3e3ee461-82c6-4079-c0a0-5da8a759ad38\",\"tags\":[],\"doc\":null}},{\"id\":\"a47ce4d8-c7f9-4813-c846-09301e8a8224\",\"type\":\"ResizeTool\",\"attributes\":{\"plot\":{\"id\":\"6145a1cc-cf02-404f-c06e-2222525c60e9\",\"type\":\"Plot\",\"subtype\":\"Figure\"},\"id\":\"a47ce4d8-c7f9-4813-c846-09301e8a8224\",\"tags\":[],\"doc\":null}},{\"id\":\"29529925-cc05-402b-c0a4-5404e6c5b8fc\",\"type\":\"ResetTool\",\"attributes\":{\"plot\":{\"id\":\"6145a1cc-cf02-404f-c06e-2222525c60e9\",\"type\":\"Plot\",\"subtype\":\"Figure\"},\"id\":\"29529925-cc05-402b-c0a4-5404e6c5b8fc\",\"tags\":[],\"doc\":null}},{\"id\":\"99068f15-52eb-40c6-c0bd-6fae7b9d4641\",\"type\":\"Legend\",\"attributes\":{\"plot\":{\"id\":\"6145a1cc-cf02-404f-c06e-2222525c60e9\",\"type\":\"Plot\",\"subtype\":\"Figure\"},\"legends\":[[\"Training Loss\",[{\"type\":\"GlyphRenderer\",\"id\":\"906289ce-4056-4348-c362-aa79990e2c97\"}]],[\"Test Loss\",[{\"type\":\"GlyphRenderer\",\"id\":\"3dd562a7-97b6-46fe-c67a-e4eea37c4eaf\"}]]],\"id\":\"99068f15-52eb-40c6-c0bd-6fae7b9d4641\",\"doc\":null,\"tags\":[]}},{\"id\":\"6145a1cc-cf02-404f-c06e-2222525c60e9\",\"type\":\"Plot\",\"attributes\":{\"x_range\":{\"type\":\"DataRange1d\",\"id\":\"15cb9663-f9cb-4567-c54c-8cccfec22684\"},\"tool_events\":{\"type\":\"ToolEvents\",\"id\":\"9a4a0b2e-ad32-4045-c035-adaf483fd39f\"},\"below\":[{\"type\":\"LinearAxis\",\"id\":\"ea7453d7-5c05-4e89-cec3-72ac5fd3116d\"}],\"renderers\":[{\"type\":\"GlyphRenderer\",\"id\":\"906289ce-4056-4348-c362-aa79990e2c97\"},{\"type\":\"GlyphRenderer\",\"id\":\"3dd562a7-97b6-46fe-c67a-e4eea37c4eaf\"},{\"type\":\"LinearAxis\",\"id\":\"ea7453d7-5c05-4e89-cec3-72ac5fd3116d\"},{\"type\":\"Grid\",\"id\":\"cffa73c3-59c8-4fb5-cfc0-3335f4b36ab6\"},{\"type\":\"LinearAxis\",\"id\":\"e7321643-1bd0-447e-c4e0-586a9bb74bf3\"},{\"type\":\"Grid\",\"id\":\"f9e10c8b-10fe-4f75-cf7f-5c44aae5acbd\"},{\"type\":\"Legend\",\"id\":\"99068f15-52eb-40c6-c0bd-6fae7b9d4641\"}],\"above\":[],\"tools\":[{\"type\":\"PanTool\",\"id\":\"6f714043-d69c-4664-c67d-dea4c07143a1\"},{\"type\":\"WheelZoomTool\",\"id\":\"c9e0396b-3ade-408a-c024-effbb726f345\"},{\"type\":\"BoxZoomTool\",\"id\":\"3318c10a-9895-43f7-c305-e32a5244474d\"},{\"type\":\"PreviewSaveTool\",\"id\":\"3e3ee461-82c6-4079-c0a0-5da8a759ad38\"},{\"type\":\"ResizeTool\",\"id\":\"a47ce4d8-c7f9-4813-c846-09301e8a8224\"},{\"type\":\"ResetTool\",\"id\":\"29529925-cc05-402b-c0a4-5404e6c5b8fc\"}],\"doc\":null,\"right\":[],\"title\":\"Loss wrt iteration\",\"extra_x_ranges\":{},\"left\":[{\"type\":\"LinearAxis\",\"id\":\"e7321643-1bd0-447e-c4e0-586a9bb74bf3\"}],\"y_range\":{\"type\":\"DataRange1d\",\"id\":\"428771bb-b7c6-4d5e-cd2e-165ac35ab2e1\"},\"id\":\"6145a1cc-cf02-404f-c06e-2222525c60e9\",\"extra_y_ranges\":{},\"tags\":[]}}];\n",
       "      Bokeh.load_models(all_models);\n",
       "      var model = Bokeh.Collections(modeltype).get(modelid);\n",
       "      $(\"#5122d3b7-c55a-4998-c967-ccac7ab728ae\").html(''); // clear any previous plot in window_id\n",
       "      var view = new model.default_view({model: model, el: \"#5122d3b7-c55a-4998-c967-ccac7ab728ae\"});\n",
       "  });\n",
       "    }\n",
       "});\n",
       "</script>\n",
       "<div class=\"plotdiv\" id=\"5122d3b7-c55a-4998-c967-ccac7ab728ae\"></div>\n"
      ]
     },
     "metadata": {},
     "output_type": "display_data"
    }
   ],
   "source": [
    "-- TODO: for the first handin item, evaluate test loss above, and add to the plot below\n",
    "--       see TIP/HINT above if you want to make the optimization loop faster\n",
    "\n",
    "local plot = Plot()\n",
    "plot:line(torch.range(1,#losses), torch.Tensor(losses), 'red', 'Training Loss')\n",
    "plot:line(torch.range(1,#losses), torch.Tensor(losses_test), 'blue', 'Test Loss')\n",
    "plot:xaxis('Iteration')\n",
    "plot:legend(true):title('Loss wrt iteration')\n",
    "plot:draw()"
   ]
  },
  {
   "cell_type": "code",
   "execution_count": 51,
   "metadata": {
    "collapsed": false
   },
   "outputs": [
    {
     "data": {
      "text/plain": [
       "8735\t87.35%\t\n"
      ]
     },
     "execution_count": 51,
     "metadata": {},
     "output_type": "execute_result"
    }
   ],
   "source": [
    "------------------------------------------------------------------------------\n",
    "-- TESTING THE LEARNED MODEL: 2ND HANDIN ITEM\n",
    "------------------------------------------------------------------------------\n",
    "\n",
    "local logProbs = model:forward(test.data)\n",
    "local classProbabilities = torch.exp(logProbs)\n",
    "local _, classPredictions = torch.max(classProbabilities, 2)\n",
    "-- classPredictions holds predicted classes from 1-10\n",
    "\n",
    "-- TODO: compute test classification error here for the second handin item\n",
    "\n",
    "accuracy = 0\n",
    "for i = 1,test:size() do\n",
    "    if classPredictions[{i,1}] == test.labels[i] then\n",
    "        accuracy = accuracy + 1\n",
    "    end\n",
    "end\n",
    "print(accuracy, accuracy / test:size()*100 .. '%')"
   ]
  },
  {
   "cell_type": "code",
   "execution_count": null,
   "metadata": {
    "collapsed": true
   },
   "outputs": [],
   "source": []
  }
 ],
 "metadata": {
  "kernelspec": {
   "display_name": "iTorch",
   "language": "lua",
   "name": "itorch"
  },
  "language_info": {
   "name": "lua",
   "version": "20100"
  }
 },
 "nbformat": 4,
 "nbformat_minor": 0
}
