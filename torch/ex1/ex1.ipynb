{
 "cells": [
  {
   "cell_type": "markdown",
   "metadata": {},
   "source": [
    "## Linear regression"
   ]
  },
  {
   "cell_type": "code",
   "execution_count": 45,
   "metadata": {
    "collapsed": true
   },
   "outputs": [],
   "source": [
    "require 'torch'\n",
    "require 'nn'\n",
    "require 'image'\n",
    "require 'optim'\n",
    "require 'csvigo'"
   ]
  },
  {
   "cell_type": "code",
   "execution_count": 46,
   "metadata": {
    "collapsed": false
   },
   "outputs": [
    {
     "data": {
      "text/plain": [
       "<csv>\tparsing file: ex1data1.txt\t\n",
       "<csv>\tparsing done\t\n"
      ]
     },
     "execution_count": 46,
     "metadata": {},
     "output_type": "execute_result"
    }
   ],
   "source": [
    "-- reload the array\n",
    "data = torch.Tensor{ csvigo.load{path='ex1data1.txt', mode='raw'} }"
   ]
  },
  {
   "cell_type": "code",
   "execution_count": 47,
   "metadata": {
    "collapsed": false
   },
   "outputs": [],
   "source": [
    "data = data[1]"
   ]
  },
  {
   "cell_type": "code",
   "execution_count": 49,
   "metadata": {
    "collapsed": false
   },
   "outputs": [
    {
     "data": {
      "text/plain": [
       "  6.1101  17.5920\n",
       "  5.5277   9.1302\n",
       "  8.5186  13.6620\n",
       "  7.0032  11.8540\n",
       "  5.8598   6.8233\n",
       "  8.3829  11.8860\n",
       "  7.4764   4.3483\n",
       "  8.5781  12.0000\n",
       "  6.4862   6.5987\n",
       "  5.0546   3.8166\n",
       "  5.7107   3.2522\n",
       " 14.1640  15.5050\n",
       "  5.7340   3.1551\n",
       "  8.4084   7.2258\n",
       "  5.6407   0.7162\n",
       "  5.3794   3.5129\n",
       "  6.3654   5.3048\n",
       "  5.1301   0.5608\n",
       "  6.4296   3.6518\n",
       "  7.0708   5.3893\n",
       "  6.1891   3.1386\n",
       " 20.2700  21.7670\n",
       "  5.4901   4.2630\n",
       "  6.3261   5.1875\n",
       "  5.5649   3.0825\n",
       " 18.9450  22.6380\n",
       " 12.8280  13.5010\n",
       " 10.9570   7.0467\n",
       " 13.1760  14.6920\n",
       " 22.2030  24.1470\n",
       "  5.2524  -1.2200\n",
       "  6.5894   5.9966\n",
       "  9.2482  12.1340\n",
       "  5.8918   1.8495\n",
       "  8.2111   6.5426\n",
       "  7.9334   4.5623\n",
       "  8.0959   4.1164\n",
       "  5.6063   3.3928\n",
       " 12.8360  10.1170\n",
       "  6.3534   5.4974\n",
       "  5.4069   0.5566\n",
       "  6.8825   3.9115\n",
       " 11.7080   5.3854\n",
       "  5.7737   2.4406\n",
       "  7.8247   6.7318\n",
       "  7.0931   1.0463\n",
       "  5.0702   5.1337\n",
       "  5.8014   1.8440\n",
       " 11.7000   8.0043\n",
       "  5.5416   1.0179\n",
       "  7.5402   6.7504\n",
       "  5.3077   1.8396\n",
       "  7.4239   4.2885\n",
       "  7.6031   4.9981\n",
       "  6.3328   1.4233\n",
       "  6.3589  -1.4211\n",
       "  6.2742   2.4756\n",
       "  5.6397   4.6042\n",
       "  9.3102   3.9624\n",
       "  9.4536   5.4141\n",
       "  8.8254   5.1694\n",
       "  5.1793  -0.7428\n",
       " 21.2790  17.9290\n",
       " 14.9080  12.0540\n",
       " 18.9590  17.0540\n",
       "  7.2182   4.8852\n",
       "  8.2951   5.7442\n",
       " 10.2360   7.7754\n",
       "  5.4994   1.0173\n",
       " 20.3410  20.9920\n",
       " 10.1360   6.6799\n",
       "  7.3345   4.0259\n",
       "  6.0062   1.2784\n",
       "  7.2259   3.3411\n",
       "  5.0269  -2.6807\n",
       "  6.5479   0.2968\n",
       "  7.5386   3.8845\n",
       "  5.0365   5.7014\n",
       " 10.2740   6.7526\n",
       "  5.1077   2.0576\n",
       "  5.7292   0.4795\n",
       "  5.1884   0.2042\n",
       "  6.3557   0.6786\n",
       "  9.7687   7.5435\n",
       "  6.5159   5.3436\n",
       "  8.5172   4.2415\n",
       "  9.1802   6.7981\n",
       "  6.0020   0.9270\n",
       "  5.5204   0.1520\n",
       "  5.0594   2.8214\n",
       "  5.7077   1.8451\n",
       "  7.6366   4.2959\n",
       "  5.8707   7.2029\n",
       "  5.3054   1.9869\n",
       "  8.2934   0.1445\n",
       " 13.3940   9.0551\n",
       "  5.4369   0.6170\n",
       "[torch.DoubleTensor of size 97x2]\n",
       "\n"
      ]
     },
     "execution_count": 48,
     "metadata": {},
     "output_type": "execute_result"
    }
   ],
   "source": [
    "model = nn.Sequential()\n",
    "ninputs = 1; noutputs = 1\n",
    "model:add(nn.Linear(ninputs, noutputs))"
   ]
  },
  {
   "cell_type": "code",
   "execution_count": 51,
   "metadata": {
    "collapsed": true
   },
   "outputs": [],
   "source": [
    "criterion = nn.MSECriterion()"
   ]
  },
  {
   "cell_type": "code",
   "execution_count": 52,
   "metadata": {
    "collapsed": true
   },
   "outputs": [],
   "source": [
    "x, dl_dx = model:getParameters()"
   ]
  },
  {
   "cell_type": "code",
   "execution_count": 53,
   "metadata": {
    "collapsed": false
   },
   "outputs": [],
   "source": [
    "feval = function()\n",
    "   _nidx_ = (_nidx_ or 0) + 1\n",
    "   if _nidx_ > (#data)[1] then _nidx_ = 1 end\n",
    "   local sample = data[_nidx_]\n",
    "   local target = sample[{ {2} }]      -- this funny looking syntax allows\n",
    "   local inputs = sample[{ {1} }]    -- slicing of arrays.\n",
    "   dl_dx:zero()\n",
    "   local loss_x = criterion:forward(model:forward(data), target)\n",
    "   model:backward(inputs, criterion:backward(model.output, target))\n",
    "   return loss_x, dl_dx\n",
    "end"
   ]
  },
  {
   "cell_type": "code",
   "execution_count": 54,
   "metadata": {
    "collapsed": true
   },
   "outputs": [],
   "source": [
    "sgd_params = {\n",
    "   learningRate = 1e-4,\n",
    "   learningRateDecay = 1e-5,\n",
    "   weightDecay = 0,\n",
    "   momentum = 0\n",
    "}"
   ]
  },
  {
   "cell_type": "code",
   "execution_count": 55,
   "metadata": {
    "collapsed": false
   },
   "outputs": [
    {
     "ename": "/root/torch/install/share/lua/5.1/nn/Linear.lua:51: size mismatch, m1: [97 x 2], m2: [1 x 1] at /root/torch/pkg/torch/lib/TH/generic/THTensorMath.c:706\nstack traceback:\n\t[C]: in function 'addmm'\n\t/root/torch/install/share/lua/5.1/nn/Linear.lua:51: in function 'updateOutput'\n\t/root/torch/install/share/lua/5.1/nn/Sequential.lua:44: in function 'forward'\n\t[string \"feval = function()...\"]:8: in function 'opfunc'\n\t/root/torch/install/share/lua/5.1/optim/sgd.lua:44: in function 'sgd'\n\t[string \"for i = 1,1e4 do...\"]:3: in main chunk\n\t[C]: in function 'xpcall'\n\t/root/torch/install/share/lua/5.1/itorch/main.lua:179: in function </root/torch/install/share/lua/5.1/itorch/main.lua:143>\n\t/root/torch/install/share/lua/5.1/lzmq/poller.lua:75: in function 'poll'\n\t/root/torch/install/share/lua/5.1/lzmq/impl/loop.lua:307: in function 'poll'\n\t/root/torch/install/share/lua/5.1/lzmq/impl/loop.lua:325: in function 'sleep_ex'\n\t/root/torch/install/share/lua/5.1/lzmq/impl/loop.lua:370: in function 'start'\n\t/root/torch/install/share/lua/5.1/itorch/main.lua:350: in main chunk\n\t[C]: in function 'require'\n\t[string \"arg={'/root/.local/share/jupyter/runtime/kern...\"]:1: in main chunk",
     "evalue": "",
     "output_type": "error",
     "traceback": [
      "/root/torch/install/share/lua/5.1/nn/Linear.lua:51: size mismatch, m1: [97 x 2], m2: [1 x 1] at /root/torch/pkg/torch/lib/TH/generic/THTensorMath.c:706\nstack traceback:\n\t[C]: in function 'addmm'\n\t/root/torch/install/share/lua/5.1/nn/Linear.lua:51: in function 'updateOutput'\n\t/root/torch/install/share/lua/5.1/nn/Sequential.lua:44: in function 'forward'\n\t[string \"feval = function()...\"]:8: in function 'opfunc'\n\t/root/torch/install/share/lua/5.1/optim/sgd.lua:44: in function 'sgd'\n\t[string \"for i = 1,1e4 do...\"]:3: in main chunk\n\t[C]: in function 'xpcall'\n\t/root/torch/install/share/lua/5.1/itorch/main.lua:179: in function </root/torch/install/share/lua/5.1/itorch/main.lua:143>\n\t/root/torch/install/share/lua/5.1/lzmq/poller.lua:75: in function 'poll'\n\t/root/torch/install/share/lua/5.1/lzmq/impl/loop.lua:307: in function 'poll'\n\t/root/torch/install/share/lua/5.1/lzmq/impl/loop.lua:325: in function 'sleep_ex'\n\t/root/torch/install/share/lua/5.1/lzmq/impl/loop.lua:370: in function 'start'\n\t/root/torch/install/share/lua/5.1/itorch/main.lua:350: in main chunk\n\t[C]: in function 'require'\n\t[string \"arg={'/root/.local/share/jupyter/runtime/kern...\"]:1: in main chunk"
     ]
    }
   ],
   "source": [
    "for i = 1,1e4 do\n",
    "   current_loss = 0\n",
    "  _,fs = optim.sgd(feval,x,sgd_params)\n",
    "  current_loss = fs[1]\n",
    "   if i%100 == 0 then\n",
    "        print('current loss = ' .. current_loss)\n",
    "   end\n",
    "end\n"
   ]
  },
  {
   "cell_type": "code",
   "execution_count": 56,
   "metadata": {
    "collapsed": true
   },
   "outputs": [],
   "source": [
    "\n",
    "myPrediction = model:forward(data[1][{ {1} }])"
   ]
  },
  {
   "cell_type": "code",
   "execution_count": 57,
   "metadata": {
    "collapsed": false
   },
   "outputs": [
    {
     "data": {
      "text/plain": [
       "17.592\t\n"
      ]
     },
     "execution_count": 57,
     "metadata": {},
     "output_type": "execute_result"
    }
   ],
   "source": [
    "data[1][{{2}}][1]"
   ]
  },
  {
   "cell_type": "code",
   "execution_count": 58,
   "metadata": {
    "collapsed": false,
    "scrolled": false
   },
   "outputs": [
    {
     "data": {
      "text/plain": [
       "id  approx   text\t\n",
       " 1   -0.82  17.59\t\n",
       " 2   -0.81   9.13\t\n",
       " 3   -0.85  13.66\t\n",
       " 4   -0.83  11.85\t\n",
       " 5   -0.81   6.82\t\n",
       " 6   -0.85  11.89\t\n",
       " 7   -0.83   4.35\t\n",
       " 8   -0.85  12.00\t\n",
       " 9   -0.82   6.60\t\n",
       "10   -0.80   3.82\t\n",
       "11   -0.81   3.25\t\n",
       "12   -0.92  15.51\t\n",
       "13   -0.81   3.16\t\n",
       "14   -0.85   7.23\t\n",
       "15   -0.81   0.72\t\n",
       "16   -0.81   3.51\t\n",
       "17   -0.82   5.30\t\n",
       "18   -0.80   0.56\t\n",
       "19   -0.82   3.65\t\n",
       "20   -0.83   5.39\t\n"
      ]
     },
     "execution_count": 58,
     "metadata": {},
     "output_type": "execute_result"
    },
    {
     "data": {
      "text/plain": [
       "21   -0.82   3.14\t\n",
       "22   -1.01  21.77\t\n",
       "23   -0.81   4.26\t\n",
       "24   -0.82   5.19\t\n",
       "25   -0.81   3.08\t\n",
       "26   -0.99  22.64\t\n",
       "27   -0.91  13.50\t\n",
       "28   -0.88   7.05\t\n",
       "29   -0.91  14.69\t\n",
       "30   -1.03  24.15\t\n",
       "31   -0.80  -1.22\t\n",
       "32   -0.82   6.00\t\n",
       "33   -0.86  12.13\t\n",
       "34   -0.81   1.85\t\n",
       "35   -0.84   6.54\t\n",
       "36   -0.84   4.56\t\n",
       "37   -0.84   4.12\t\n",
       "38   -0.81   3.39\t\n",
       "39   -0.91  10.12\t\n",
       "40   -0.82   5.50\t\n",
       "41   -0.81   0.56\t\n",
       "42   -0.83   3.91\t\n",
       "43   -0.89   5.39\t\n",
       "44   -0.81   2.44\t\n"
      ]
     },
     "execution_count": 58,
     "metadata": {},
     "output_type": "execute_result"
    },
    {
     "data": {
      "text/plain": [
       "45   -0.84   6.73\t\n",
       "46   -0.83   1.05\t\n",
       "47   -0.80   5.13\t\n",
       "48   -0.81   1.84\t\n",
       "49   -0.89   8.00\t\n",
       "50   -0.81   1.02\t\n",
       "51   -0.84   6.75\t\n",
       "52   -0.80   1.84\t\n",
       "53   -0.83   4.29\t\n",
       "54   -0.84   5.00\t\n",
       "55   -0.82   1.42\t\n",
       "56   -0.82  -1.42\t\n",
       "57   -0.82   2.48\t\n",
       "58   -0.81   4.60\t\n",
       "59   -0.86   3.96\t\n",
       "60   -0.86   5.41\t\n",
       "61   -0.85   5.17\t\n",
       "62   -0.80  -0.74\t\n",
       "63   -1.02  17.93\t\n",
       "64   -0.93  12.05\t\n",
       "65   -0.99  17.05\t\n",
       "66   -0.83   4.89\t\n"
      ]
     },
     "execution_count": 58,
     "metadata": {},
     "output_type": "execute_result"
    },
    {
     "data": {
      "text/plain": [
       "67   -0.85   5.74\t\n",
       "68   -0.87   7.78\t\n",
       "69   -0.81   1.02\t\n",
       "70   -1.01  20.99\t\n",
       "71   -0.87   6.68\t\n",
       "72   -0.83   4.03\t\n",
       "73   -0.81   1.28\t\n",
       "74   -0.83   3.34\t\n",
       "75   -0.80  -2.68\t\n",
       "76   -0.82   0.30\t\n",
       "77   -0.84   3.88\t\n",
       "78   -0.80   5.70\t\n",
       "79   -0.87   6.75\t\n",
       "80   -0.80   2.06\t\n",
       "81   -0.81   0.48\t\n",
       "82   -0.80   0.20\t\n",
       "83   -0.82   0.68\t\n",
       "84   -0.87   7.54\t\n",
       "85   -0.82   5.34\t\n",
       "86   -0.85   4.24\t\n",
       "87   -0.86   6.80\t\n",
       "88   -0.81   0.93\t\n",
       "89   -0.81   0.15\t\n",
       "90   -0.80   2.82\t\n",
       "91   -0.81   1.85\t\n"
      ]
     },
     "execution_count": 58,
     "metadata": {},
     "output_type": "execute_result"
    },
    {
     "data": {
      "text/plain": [
       "92   -0.84   4.30\t\n",
       "93   -0.81   7.20\t\n",
       "94   -0.80   1.99\t\n",
       "95   -0.85   0.14\t\n",
       "96   -0.91   9.06\t\n",
       "97   -0.81   0.62\t\n",
       "evaluation = 75.187102156819\t\n"
      ]
     },
     "execution_count": 58,
     "metadata": {},
     "output_type": "execute_result"
    }
   ],
   "source": [
    "print('id  approx   text')\n",
    "current_loss = 0\n",
    "for i = 1,(#data)[1] do\n",
    "   local myPrediction = model:forward(data[i][{ {1} }])\n",
    "   print(string.format(\"%2d  %6.2f %6.2f\", i, myPrediction[1], data[i][2]))\n",
    "    current_loss = current_loss + (myPrediction[1] - data[i][{ {2} }][1])*(myPrediction[1] - data[i][{ {2} }][1])\n",
    "end\n",
    "current_loss = current_loss / (#data)[1]\n",
    "print('evaluation = ' .. current_loss)"
   ]
  }
 ],
 "metadata": {
  "kernelspec": {
   "display_name": "iTorch",
   "language": "lua",
   "name": "itorch"
  },
  "language_info": {
   "name": "lua",
   "version": "20100"
  }
 },
 "nbformat": 4,
 "nbformat_minor": 0
}
